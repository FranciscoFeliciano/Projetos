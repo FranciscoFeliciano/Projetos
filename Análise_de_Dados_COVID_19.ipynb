{
 "cells": [
  {
   "cell_type": "markdown",
   "id": "c3d21fd7",
   "metadata": {
    "id": "view-in-github",
    "papermill": {
     "duration": 0.022538,
     "end_time": "2024-06-19T21:19:09.971687",
     "exception": false,
     "start_time": "2024-06-19T21:19:09.949149",
     "status": "completed"
    },
    "tags": []
   },
   "source": [
    "<a href=\"https://colab.research.google.com/github/FranciscoFeliciano/Projetos/blob/main/An%C3%A1lise_de_Dados_COVID_19.ipynb\" target=\"_parent\"><img src=\"https://colab.research.google.com/assets/colab-badge.svg\" alt=\"Open In Colab\"/></a>"
   ]
  },
  {
   "cell_type": "markdown",
   "id": "a99b8fd4",
   "metadata": {
    "id": "KJqp9AANOCtf",
    "papermill": {
     "duration": 0.021836,
     "end_time": "2024-06-19T21:19:10.015745",
     "exception": false,
     "start_time": "2024-06-19T21:19:09.993909",
     "status": "completed"
    },
    "tags": []
   },
   "source": [
    "<img src=\"https://raw.githubusercontent.com/andre-marcos-perez/ebac-course-utils/main/media/logo/newebac_logo_black_half.png\" alt=\"ebac-logo\">\n",
    "\n",
    "---\n",
    "\n",
    "# **Módulo** | Análise de Dados: COVID-19 Dashboard\n",
    "19 de Junho de 2024\n",
    "\n",
    "Professor [André Perez](https://www.linkedin.com/in/andremarcosperez/)\n",
    "\n",
    "---"
   ]
  },
  {
   "cell_type": "markdown",
   "id": "2a3b2f28",
   "metadata": {
    "id": "d9jDtUbDOE1-",
    "papermill": {
     "duration": 0.022417,
     "end_time": "2024-06-19T21:19:10.062406",
     "exception": false,
     "start_time": "2024-06-19T21:19:10.039989",
     "status": "completed"
    },
    "tags": []
   },
   "source": [
    "# **Tópicos**\n",
    "\n",
    "<ol type=\"1\">\n",
    "  <li>Introdução;</li>\n",
    "  <li>Análise Exploratória de Dados;</li>\n",
    "  <li>Visualização Interativa de Dados;</li>\n",
    "  <li>Storytelling.</li>\n",
    "</ol>"
   ]
  },
  {
   "cell_type": "markdown",
   "id": "dfe792d6",
   "metadata": {
    "id": "SmoHgt-lwkpD",
    "papermill": {
     "duration": 0.021775,
     "end_time": "2024-06-19T21:19:10.106174",
     "exception": false,
     "start_time": "2024-06-19T21:19:10.084399",
     "status": "completed"
    },
    "tags": []
   },
   "source": [
    "---"
   ]
  },
  {
   "cell_type": "markdown",
   "id": "52ba0848",
   "metadata": {
    "id": "GABI6OW8OfQ2",
    "papermill": {
     "duration": 0.021897,
     "end_time": "2024-06-19T21:19:10.150577",
     "exception": false,
     "start_time": "2024-06-19T21:19:10.128680",
     "status": "completed"
    },
    "tags": []
   },
   "source": [
    "# **Aulas**"
   ]
  },
  {
   "cell_type": "markdown",
   "id": "7fb35c24",
   "metadata": {
    "id": "muD1vxozykSC",
    "papermill": {
     "duration": 0.021995,
     "end_time": "2024-06-19T21:19:10.196889",
     "exception": false,
     "start_time": "2024-06-19T21:19:10.174894",
     "status": "completed"
    },
    "tags": []
   },
   "source": [
    "## 1\\. Introdução"
   ]
  },
  {
   "cell_type": "markdown",
   "id": "850bf0f6",
   "metadata": {
    "id": "MHESfVrl-rPV",
    "papermill": {
     "duration": 0.021669,
     "end_time": "2024-06-19T21:19:10.241346",
     "exception": false,
     "start_time": "2024-06-19T21:19:10.219677",
     "status": "completed"
    },
    "tags": []
   },
   "source": [
    "### **1.1. TLDR**"
   ]
  },
  {
   "cell_type": "markdown",
   "id": "d39a7f06",
   "metadata": {
    "id": "Kbt89uW55ynj",
    "papermill": {
     "duration": 0.022552,
     "end_time": "2024-06-19T21:19:10.286841",
     "exception": false,
     "start_time": "2024-06-19T21:19:10.264289",
     "status": "completed"
    },
    "tags": []
   },
   "source": [
    " - **Dashboard**:\n",
    "  - Google Data Studio ([link](https://lookerstudio.google.com/reporting/19a2eb72-f87c-4f50-8c87-31cf007a485d)).\n",
    " - **Processamento**:\n",
    "  - Kaggle Notebook ([link](https://www.kaggle.com/code/franciscofeliciano/covid-19/edit)).\n",
    " - **Fontes**:\n",
    "  - Casos pela universidade John Hopkins ([link](https://github.com/CSSEGISandData/COVID-19/tree/master/csse_covid_19_data/csse_covid_19_daily_reports));\n",
    "  - Vacinação pela universidade de Oxford ([link](https://covid.ourworldindata.org/data/owid-covid-data.csv))."
   ]
  },
  {
   "cell_type": "markdown",
   "id": "9b3d6ac5",
   "metadata": {
    "id": "uBq6aQxeB4r0",
    "papermill": {
     "duration": 0.022769,
     "end_time": "2024-06-19T21:19:10.332256",
     "exception": false,
     "start_time": "2024-06-19T21:19:10.309487",
     "status": "completed"
    },
    "tags": []
   },
   "source": [
    "### **1.2. Coronavírus (2021)**\n",
    "\n"
   ]
  },
  {
   "cell_type": "markdown",
   "id": "e16d540a",
   "metadata": {
    "id": "caKO04G0tzxc",
    "papermill": {
     "duration": 0.021688,
     "end_time": "2024-06-19T21:19:10.377655",
     "exception": false,
     "start_time": "2024-06-19T21:19:10.355967",
     "status": "completed"
    },
    "tags": []
   },
   "source": [
    "> A COVID-19 é uma infecção respiratória aguda causada pelo coronavírus SARS-CoV-2, potencialmente grave, de elevada transmissibilidade e de distribuição global. Fonte: Governo brasileiro ([link](https://www.gov.br/saude/pt-br/coronavirus/o-que-e-o-coronavirus))."
   ]
  },
  {
   "cell_type": "markdown",
   "id": "7221e19a",
   "metadata": {
    "id": "UrsxlQhH7WrD",
    "papermill": {
     "duration": 0.022061,
     "end_time": "2024-06-19T21:19:10.421763",
     "exception": false,
     "start_time": "2024-06-19T21:19:10.399702",
     "status": "completed"
    },
    "tags": []
   },
   "source": [
    "**Descrição do Problema**: A pandemia de COVID-19, causada pelo coronavírus SARS-CoV-2, teve um impacto global significativo na saúde pública, na economia e na sociedade como um todo. O acompanhamento e análise dos dados relacionados ao COVID-19 são cruciais para entender a evolução da doença, identificar áreas de maior impacto e avaliar a eficácia das medidas de contenção.\n",
    "\n",
    "Objetivos deste Dashboard:\n",
    "\n",
    "* Monitoramento Global: Apresentar uma visão geral da situação global, destacando o número total de casos confirmados, recuperados e óbitos.\n",
    "\n",
    "* Análise por Região: Permitir a análise detalhada da situação em diferentes regiões, incluindo países, estados ou províncias, destacando variações nas taxas de infecção, mortalidade e recuperação.\n",
    "\n",
    "* Tendências Temporais: Apresentar gráficos interativos para visualizar as tendências ao longo do tempo, identificando picos, declínios e possíveis padrões sazonais.\n",
    "\n",
    "* Comparação de Medidas: Analisar a eficácia de diferentes medidas de contenção adotadas por diferentes regiões e países, como lockdowns, distanciamento social e campanhas de vacinação.\n",
    "\n",
    "* Informações Demográficas: Integrar dados demográficos para entender como diferentes grupos populacionais são afetados, considerando fatores como idade, sexo e condições de saúde pré-existentes."
   ]
  },
  {
   "cell_type": "markdown",
   "id": "7c36c11a",
   "metadata": {
    "id": "oo-6n3_GH0CT",
    "papermill": {
     "duration": 0.022994,
     "end_time": "2024-06-19T21:19:10.467618",
     "exception": false,
     "start_time": "2024-06-19T21:19:10.444624",
     "status": "completed"
    },
    "tags": []
   },
   "source": [
    "### **1.3. Dados**"
   ]
  },
  {
   "cell_type": "markdown",
   "id": "2e39e22c",
   "metadata": {
    "id": "q9Kj_d3c3Hmd",
    "papermill": {
     "duration": 0.021829,
     "end_time": "2024-06-19T21:19:10.511953",
     "exception": false,
     "start_time": "2024-06-19T21:19:10.490124",
     "status": "completed"
    },
    "tags": []
   },
   "source": [
    "Os dados sobre **casos da COVID-19** são compilados pelo centro de ciência de sistemas e engenharia da universidade americana **John Hopkins** ([link](https://www.jhu.edu)). Os dados são atualizados diariamente deste janeiro de 2020 com uma granularidade temporal de dias e geográfica de regiões de países (estados, condados, etc.). O website do projeto pode ser acessado neste [link](https://systems.jhu.edu/research/public-health/ncov/) enquanto os dados, neste [link](https://github.com/CSSEGISandData/COVID-19/tree/master/csse_covid_19_data/csse_covid_19_daily_reports). Abaixo estão descritos os dados derivados do seu processamento."
   ]
  },
  {
   "cell_type": "markdown",
   "id": "7ffbb46e",
   "metadata": {
    "id": "7hKS37TRwvG7",
    "papermill": {
     "duration": 0.022683,
     "end_time": "2024-06-19T21:19:10.557018",
     "exception": false,
     "start_time": "2024-06-19T21:19:10.534335",
     "status": "completed"
    },
    "tags": []
   },
   "source": [
    " - **date**: data de referência;\n",
    " - **state**: estado;\n",
    " - **country**: país;\n",
    " - **population**: população estimada;\n",
    " - **confirmed**: número acumulado de infectados;\n",
    " - **confirmed_1d**: número diário de infectados;\n",
    " - **confirmed_moving_avg_7d**: média móvel de 7 dias do número diário de infectados;\n",
    " - **confirmed_moving_avg_7d_rate_14d**: média móvel de 7 dias dividido pela média móvel de 7 dias de 14 dias atrás;\n",
    " - **deaths**: número acumulado de mortos;\n",
    " - **deaths_1d**: número diário de mortos;\n",
    " - **deaths_moving_avg_7d**: média móvel de 7 dias do número diário de mortos;\n",
    " - **deaths_moving_avg_7d**: média móvel de 7 dias dividido pela média móvel de 7 dias de 14 dias atrás;\n",
    " - **month**: mês de referência;\n",
    " - **year**: ano de referência."
   ]
  },
  {
   "cell_type": "markdown",
   "id": "5e51ffc9",
   "metadata": {
    "id": "Io6Yn0Yi7woI",
    "papermill": {
     "duration": 0.021722,
     "end_time": "2024-06-19T21:19:10.602242",
     "exception": false,
     "start_time": "2024-06-19T21:19:10.580520",
     "status": "completed"
    },
    "tags": []
   },
   "source": [
    "Os dados sobre **vacinação da COVID-19** são compilados pelo projeto Nosso Mundo em Dados (*Our World in Data* ou OWID) da universidade britânica de **Oxford** ([link](https://www.ox.ac.uk)). Os dados são **atualizados diariamente** deste janeiro de 2020 com uma **granularidade temporal de dias e geográfica de países**. O website do projeto pode ser acessado neste [link](https://ourworldindata.org) enquanto os dados, neste [link](https://covid.ourworldindata.org/data/owid-covid-data.csv). Abaixo estão descritos os dados derivados do seu processamento."
   ]
  },
  {
   "cell_type": "markdown",
   "id": "c6da6ea3",
   "metadata": {
    "id": "oF5oDfm07woK",
    "papermill": {
     "duration": 0.022829,
     "end_time": "2024-06-19T21:19:10.647094",
     "exception": false,
     "start_time": "2024-06-19T21:19:10.624265",
     "status": "completed"
    },
    "tags": []
   },
   "source": [
    " - **date**: data de referência;\n",
    " - **country**: país;\n",
    " - **population**: população estimada;\n",
    " - **total**: número acumulado de doses administradas;\n",
    " - **one_shot**: número acumulado de pessoas com uma dose;\n",
    " - **one_shot_perc**: número acumulado relativo de pessoas com uma dose;\n",
    " - **two_shots**: número acumulado de pessoas com duas doses;\n",
    " - **two_shot_perc**: número acumulado relativo de pessoas com duas doses;\n",
    " - **three_shots**: número acumulado de pessoas com três doses;\n",
    " - **three_shot_perc**: número acumulado relativo de pessoas com três doses;\n",
    " - **month**: mês de referência;\n",
    " - **year**: ano de referência."
   ]
  },
  {
   "cell_type": "markdown",
   "id": "af42b267",
   "metadata": {
    "id": "EkVv4SCzIrxS",
    "papermill": {
     "duration": 0.02378,
     "end_time": "2024-06-19T21:19:10.695236",
     "exception": false,
     "start_time": "2024-06-19T21:19:10.671456",
     "status": "completed"
    },
    "tags": []
   },
   "source": [
    "## 2\\. Análise Exploratória de Dados"
   ]
  },
  {
   "cell_type": "markdown",
   "id": "f723ce38",
   "metadata": {
    "id": "5qb_q_g0W1xq",
    "papermill": {
     "duration": 0.021643,
     "end_time": "2024-06-19T21:19:10.739581",
     "exception": false,
     "start_time": "2024-06-19T21:19:10.717938",
     "status": "completed"
    },
    "tags": []
   },
   "source": [
    "Nesta sessão vamos utilizar os seguintes pacotes Python para processar os dados bruto em um formato adequado para um painel para exploração interativa de dados."
   ]
  },
  {
   "cell_type": "code",
   "execution_count": 1,
   "id": "19518640",
   "metadata": {
    "execution": {
     "iopub.execute_input": "2024-06-19T21:19:10.787099Z",
     "iopub.status.busy": "2024-06-19T21:19:10.786371Z",
     "iopub.status.idle": "2024-06-19T21:19:11.940066Z",
     "shell.execute_reply": "2024-06-19T21:19:11.938887Z"
    },
    "id": "1X3WC_QYUlAz",
    "papermill": {
     "duration": 1.181087,
     "end_time": "2024-06-19T21:19:11.942967",
     "exception": false,
     "start_time": "2024-06-19T21:19:10.761880",
     "status": "completed"
    },
    "tags": []
   },
   "outputs": [],
   "source": [
    "import math\n",
    "from typing import Iterator\n",
    "from datetime import datetime, timedelta\n",
    "\n",
    "import numpy as np\n",
    "import pandas as pd"
   ]
  },
  {
   "cell_type": "markdown",
   "id": "befa84af",
   "metadata": {
    "id": "aP2Dlk9kOqCf",
    "papermill": {
     "duration": 0.08383,
     "end_time": "2024-06-19T21:19:12.049035",
     "exception": false,
     "start_time": "2024-06-19T21:19:11.965205",
     "status": "completed"
    },
    "tags": []
   },
   "source": [
    "### **2.1. Casos**"
   ]
  },
  {
   "cell_type": "markdown",
   "id": "61994ec7",
   "metadata": {
    "id": "8L5p6NGWaeSi",
    "papermill": {
     "duration": 0.022783,
     "end_time": "2024-06-19T21:19:12.096548",
     "exception": false,
     "start_time": "2024-06-19T21:19:12.073765",
     "status": "completed"
    },
    "tags": []
   },
   "source": [
    "Vamos processar os dados de **casos** da universidade John Hopkins.\n",
    "\n"
   ]
  },
  {
   "cell_type": "markdown",
   "id": "3fabd241",
   "metadata": {
    "id": "Nd159jDC8Dm-",
    "papermill": {
     "duration": 0.023068,
     "end_time": "2024-06-19T21:19:12.142360",
     "exception": false,
     "start_time": "2024-06-19T21:19:12.119292",
     "status": "completed"
    },
    "tags": []
   },
   "source": [
    "#### **2.1.1. Extração**"
   ]
  },
  {
   "cell_type": "markdown",
   "id": "4207128a",
   "metadata": {
    "id": "QvRDLv8xVm7Y",
    "papermill": {
     "duration": 0.022207,
     "end_time": "2024-06-19T21:19:12.187515",
     "exception": false,
     "start_time": "2024-06-19T21:19:12.165308",
     "status": "completed"
    },
    "tags": []
   },
   "source": [
    "O dado está compilado em um arquivo por dia, exemplo para 2021/12/01."
   ]
  },
  {
   "cell_type": "code",
   "execution_count": 2,
   "id": "83ec732d",
   "metadata": {
    "execution": {
     "iopub.execute_input": "2024-06-19T21:19:12.235804Z",
     "iopub.status.busy": "2024-06-19T21:19:12.234511Z",
     "iopub.status.idle": "2024-06-19T21:19:12.470859Z",
     "shell.execute_reply": "2024-06-19T21:19:12.469489Z"
    },
    "id": "GmsdWZKzKWup",
    "papermill": {
     "duration": 0.263616,
     "end_time": "2024-06-19T21:19:12.473910",
     "exception": false,
     "start_time": "2024-06-19T21:19:12.210294",
     "status": "completed"
    },
    "tags": []
   },
   "outputs": [],
   "source": [
    "cases = pd.read_csv('https://raw.githubusercontent.com/CSSEGISandData/COVID-19/master/csse_covid_19_data/csse_covid_19_daily_reports/01-12-2021.csv', sep=',')"
   ]
  },
  {
   "cell_type": "code",
   "execution_count": 3,
   "id": "ae011df2",
   "metadata": {
    "execution": {
     "iopub.execute_input": "2024-06-19T21:19:12.522915Z",
     "iopub.status.busy": "2024-06-19T21:19:12.522500Z",
     "iopub.status.idle": "2024-06-19T21:19:12.556355Z",
     "shell.execute_reply": "2024-06-19T21:19:12.555175Z"
    },
    "id": "bHg1MA4AKaeC",
    "outputId": "29f32529-5eb4-4dbf-e46f-b5801d20e9fe",
    "papermill": {
     "duration": 0.061067,
     "end_time": "2024-06-19T21:19:12.559120",
     "exception": false,
     "start_time": "2024-06-19T21:19:12.498053",
     "status": "completed"
    },
    "tags": []
   },
   "outputs": [
    {
     "data": {
      "text/html": [
       "<div>\n",
       "<style scoped>\n",
       "    .dataframe tbody tr th:only-of-type {\n",
       "        vertical-align: middle;\n",
       "    }\n",
       "\n",
       "    .dataframe tbody tr th {\n",
       "        vertical-align: top;\n",
       "    }\n",
       "\n",
       "    .dataframe thead th {\n",
       "        text-align: right;\n",
       "    }\n",
       "</style>\n",
       "<table border=\"1\" class=\"dataframe\">\n",
       "  <thead>\n",
       "    <tr style=\"text-align: right;\">\n",
       "      <th></th>\n",
       "      <th>FIPS</th>\n",
       "      <th>Admin2</th>\n",
       "      <th>Province_State</th>\n",
       "      <th>Country_Region</th>\n",
       "      <th>Last_Update</th>\n",
       "      <th>Lat</th>\n",
       "      <th>Long_</th>\n",
       "      <th>Confirmed</th>\n",
       "      <th>Deaths</th>\n",
       "      <th>Recovered</th>\n",
       "      <th>Active</th>\n",
       "      <th>Combined_Key</th>\n",
       "      <th>Incident_Rate</th>\n",
       "      <th>Case_Fatality_Ratio</th>\n",
       "    </tr>\n",
       "  </thead>\n",
       "  <tbody>\n",
       "    <tr>\n",
       "      <th>0</th>\n",
       "      <td>NaN</td>\n",
       "      <td>NaN</td>\n",
       "      <td>NaN</td>\n",
       "      <td>Afghanistan</td>\n",
       "      <td>2021-01-13 05:22:15</td>\n",
       "      <td>33.93911</td>\n",
       "      <td>67.709953</td>\n",
       "      <td>53584</td>\n",
       "      <td>2301</td>\n",
       "      <td>44608</td>\n",
       "      <td>6675</td>\n",
       "      <td>Afghanistan</td>\n",
       "      <td>137.647787</td>\n",
       "      <td>4.294192</td>\n",
       "    </tr>\n",
       "    <tr>\n",
       "      <th>1</th>\n",
       "      <td>NaN</td>\n",
       "      <td>NaN</td>\n",
       "      <td>NaN</td>\n",
       "      <td>Albania</td>\n",
       "      <td>2021-01-13 05:22:15</td>\n",
       "      <td>41.15330</td>\n",
       "      <td>20.168300</td>\n",
       "      <td>64627</td>\n",
       "      <td>1252</td>\n",
       "      <td>38421</td>\n",
       "      <td>24954</td>\n",
       "      <td>Albania</td>\n",
       "      <td>2245.708527</td>\n",
       "      <td>1.937271</td>\n",
       "    </tr>\n",
       "    <tr>\n",
       "      <th>2</th>\n",
       "      <td>NaN</td>\n",
       "      <td>NaN</td>\n",
       "      <td>NaN</td>\n",
       "      <td>Algeria</td>\n",
       "      <td>2021-01-13 05:22:15</td>\n",
       "      <td>28.03390</td>\n",
       "      <td>1.659600</td>\n",
       "      <td>102641</td>\n",
       "      <td>2816</td>\n",
       "      <td>69608</td>\n",
       "      <td>30217</td>\n",
       "      <td>Algeria</td>\n",
       "      <td>234.067409</td>\n",
       "      <td>2.743543</td>\n",
       "    </tr>\n",
       "    <tr>\n",
       "      <th>3</th>\n",
       "      <td>NaN</td>\n",
       "      <td>NaN</td>\n",
       "      <td>NaN</td>\n",
       "      <td>Andorra</td>\n",
       "      <td>2021-01-13 05:22:15</td>\n",
       "      <td>42.50630</td>\n",
       "      <td>1.521800</td>\n",
       "      <td>8682</td>\n",
       "      <td>86</td>\n",
       "      <td>7930</td>\n",
       "      <td>666</td>\n",
       "      <td>Andorra</td>\n",
       "      <td>11236.653077</td>\n",
       "      <td>0.990555</td>\n",
       "    </tr>\n",
       "    <tr>\n",
       "      <th>4</th>\n",
       "      <td>NaN</td>\n",
       "      <td>NaN</td>\n",
       "      <td>NaN</td>\n",
       "      <td>Angola</td>\n",
       "      <td>2021-01-13 05:22:15</td>\n",
       "      <td>-11.20270</td>\n",
       "      <td>17.873900</td>\n",
       "      <td>18343</td>\n",
       "      <td>422</td>\n",
       "      <td>15512</td>\n",
       "      <td>2409</td>\n",
       "      <td>Angola</td>\n",
       "      <td>55.811022</td>\n",
       "      <td>2.300605</td>\n",
       "    </tr>\n",
       "  </tbody>\n",
       "</table>\n",
       "</div>"
      ],
      "text/plain": [
       "   FIPS Admin2 Province_State Country_Region          Last_Update       Lat  \\\n",
       "0   NaN    NaN            NaN    Afghanistan  2021-01-13 05:22:15  33.93911   \n",
       "1   NaN    NaN            NaN        Albania  2021-01-13 05:22:15  41.15330   \n",
       "2   NaN    NaN            NaN        Algeria  2021-01-13 05:22:15  28.03390   \n",
       "3   NaN    NaN            NaN        Andorra  2021-01-13 05:22:15  42.50630   \n",
       "4   NaN    NaN            NaN         Angola  2021-01-13 05:22:15 -11.20270   \n",
       "\n",
       "       Long_  Confirmed  Deaths  Recovered  Active Combined_Key  \\\n",
       "0  67.709953      53584    2301      44608    6675  Afghanistan   \n",
       "1  20.168300      64627    1252      38421   24954      Albania   \n",
       "2   1.659600     102641    2816      69608   30217      Algeria   \n",
       "3   1.521800       8682      86       7930     666      Andorra   \n",
       "4  17.873900      18343     422      15512    2409       Angola   \n",
       "\n",
       "   Incident_Rate  Case_Fatality_Ratio  \n",
       "0     137.647787             4.294192  \n",
       "1    2245.708527             1.937271  \n",
       "2     234.067409             2.743543  \n",
       "3   11236.653077             0.990555  \n",
       "4      55.811022             2.300605  "
      ]
     },
     "execution_count": 3,
     "metadata": {},
     "output_type": "execute_result"
    }
   ],
   "source": [
    "cases.head()"
   ]
  },
  {
   "cell_type": "markdown",
   "id": "fd6a82ec",
   "metadata": {
    "id": "XoGYHPcoKXSV",
    "papermill": {
     "duration": 0.024397,
     "end_time": "2024-06-19T21:19:12.606278",
     "exception": false,
     "start_time": "2024-06-19T21:19:12.581881",
     "status": "completed"
    },
    "tags": []
   },
   "source": [
    "Portanto, precisaremos iterar dentro de um intervalo de tempo definido para extraí-lo."
   ]
  },
  {
   "cell_type": "code",
   "execution_count": 4,
   "id": "3ce7e73a",
   "metadata": {
    "execution": {
     "iopub.execute_input": "2024-06-19T21:19:12.656053Z",
     "iopub.status.busy": "2024-06-19T21:19:12.655649Z",
     "iopub.status.idle": "2024-06-19T21:19:12.663135Z",
     "shell.execute_reply": "2024-06-19T21:19:12.661698Z"
    },
    "id": "yvNNHQWjF1LI",
    "papermill": {
     "duration": 0.036038,
     "end_time": "2024-06-19T21:19:12.665918",
     "exception": false,
     "start_time": "2024-06-19T21:19:12.629880",
     "status": "completed"
    },
    "tags": []
   },
   "outputs": [],
   "source": [
    "def date_range(start_date: datetime, end_date: datetime) -> Iterator[datetime]:\n",
    "  date_range_days: int = (end_date - start_date).days\n",
    "  for lag in range(date_range_days):\n",
    "    yield start_date + timedelta(lag)"
   ]
  },
  {
   "cell_type": "code",
   "execution_count": 5,
   "id": "86bf960a",
   "metadata": {
    "execution": {
     "iopub.execute_input": "2024-06-19T21:19:12.715695Z",
     "iopub.status.busy": "2024-06-19T21:19:12.714568Z",
     "iopub.status.idle": "2024-06-19T21:19:12.720646Z",
     "shell.execute_reply": "2024-06-19T21:19:12.719500Z"
    },
    "id": "pUnc9yv5ISm1",
    "papermill": {
     "duration": 0.034199,
     "end_time": "2024-06-19T21:19:12.723226",
     "exception": false,
     "start_time": "2024-06-19T21:19:12.689027",
     "status": "completed"
    },
    "tags": []
   },
   "outputs": [],
   "source": [
    "start_date = datetime(2021,  1,  1)\n",
    "end_date   = datetime(2021, 12, 31)"
   ]
  },
  {
   "cell_type": "markdown",
   "id": "c9674561",
   "metadata": {
    "id": "EqAuJfCkWKiz",
    "papermill": {
     "duration": 0.023541,
     "end_time": "2024-06-19T21:19:12.770507",
     "exception": false,
     "start_time": "2024-06-19T21:19:12.746966",
     "status": "completed"
    },
    "tags": []
   },
   "source": [
    "De maneira iterativa, vamos selecionar as colunas de interesse e as linhas referentes ao Brasil."
   ]
  },
  {
   "cell_type": "code",
   "execution_count": 6,
   "id": "02b570c2",
   "metadata": {
    "execution": {
     "iopub.execute_input": "2024-06-19T21:19:12.821384Z",
     "iopub.status.busy": "2024-06-19T21:19:12.820982Z",
     "iopub.status.idle": "2024-06-19T21:20:32.592957Z",
     "shell.execute_reply": "2024-06-19T21:20:32.591946Z"
    },
    "id": "-g3E-Ya4H4O1",
    "papermill": {
     "duration": 79.801072,
     "end_time": "2024-06-19T21:20:32.595693",
     "exception": false,
     "start_time": "2024-06-19T21:19:12.794621",
     "status": "completed"
    },
    "tags": []
   },
   "outputs": [],
   "source": [
    "cases = None\n",
    "cases_is_empty = True\n",
    "\n",
    "for date in date_range(start_date=start_date, end_date=end_date):\n",
    "\n",
    "  date_str = date.strftime('%m-%d-%Y')\n",
    "  data_source_url = f'https://raw.githubusercontent.com/CSSEGISandData/COVID-19/master/csse_covid_19_data/csse_covid_19_daily_reports/{date_str}.csv'\n",
    "\n",
    "  case = pd.read_csv(data_source_url, sep=',')\n",
    "\n",
    "  case = case.drop(['FIPS', 'Admin2', 'Last_Update', 'Lat', 'Long_', 'Recovered', 'Active', 'Combined_Key', 'Case_Fatality_Ratio'], axis=1)\n",
    "  case = case.query('Country_Region == \"Brazil\"').reset_index(drop=True)\n",
    "  case['Date'] = pd.to_datetime(date.strftime('%Y-%m-%d'))\n",
    "\n",
    "  if cases_is_empty:\n",
    "    cases = case\n",
    "    cases_is_empty = False\n",
    "  else:\n",
    "    cases = pd.concat([cases, case], ignore_index=True)"
   ]
  },
  {
   "cell_type": "code",
   "execution_count": 7,
   "id": "f16e22ad",
   "metadata": {
    "execution": {
     "iopub.execute_input": "2024-06-19T21:20:32.644794Z",
     "iopub.status.busy": "2024-06-19T21:20:32.644342Z",
     "iopub.status.idle": "2024-06-19T21:20:32.668622Z",
     "shell.execute_reply": "2024-06-19T21:20:32.667465Z"
    },
    "id": "nOYxy_zMKBin",
    "outputId": "a64b2552-d0ec-4f34-91e2-a82bccf254c1",
    "papermill": {
     "duration": 0.052596,
     "end_time": "2024-06-19T21:20:32.671446",
     "exception": false,
     "start_time": "2024-06-19T21:20:32.618850",
     "status": "completed"
    },
    "tags": []
   },
   "outputs": [
    {
     "data": {
      "text/html": [
       "<div>\n",
       "<style scoped>\n",
       "    .dataframe tbody tr th:only-of-type {\n",
       "        vertical-align: middle;\n",
       "    }\n",
       "\n",
       "    .dataframe tbody tr th {\n",
       "        vertical-align: top;\n",
       "    }\n",
       "\n",
       "    .dataframe thead th {\n",
       "        text-align: right;\n",
       "    }\n",
       "</style>\n",
       "<table border=\"1\" class=\"dataframe\">\n",
       "  <thead>\n",
       "    <tr style=\"text-align: right;\">\n",
       "      <th></th>\n",
       "      <th>Province_State</th>\n",
       "      <th>Country_Region</th>\n",
       "      <th>Confirmed</th>\n",
       "      <th>Deaths</th>\n",
       "      <th>Incident_Rate</th>\n",
       "      <th>Date</th>\n",
       "    </tr>\n",
       "  </thead>\n",
       "  <tbody>\n",
       "    <tr>\n",
       "      <th>24</th>\n",
       "      <td>Sao Paulo</td>\n",
       "      <td>Brazil</td>\n",
       "      <td>1466191</td>\n",
       "      <td>46775</td>\n",
       "      <td>3192.990778</td>\n",
       "      <td>2021-01-01</td>\n",
       "    </tr>\n",
       "    <tr>\n",
       "      <th>51</th>\n",
       "      <td>Sao Paulo</td>\n",
       "      <td>Brazil</td>\n",
       "      <td>1467953</td>\n",
       "      <td>46808</td>\n",
       "      <td>3196.827966</td>\n",
       "      <td>2021-01-02</td>\n",
       "    </tr>\n",
       "    <tr>\n",
       "      <th>78</th>\n",
       "      <td>Sao Paulo</td>\n",
       "      <td>Brazil</td>\n",
       "      <td>1471422</td>\n",
       "      <td>46845</td>\n",
       "      <td>3204.382565</td>\n",
       "      <td>2021-01-03</td>\n",
       "    </tr>\n",
       "    <tr>\n",
       "      <th>105</th>\n",
       "      <td>Sao Paulo</td>\n",
       "      <td>Brazil</td>\n",
       "      <td>1473670</td>\n",
       "      <td>46888</td>\n",
       "      <td>3209.278136</td>\n",
       "      <td>2021-01-04</td>\n",
       "    </tr>\n",
       "    <tr>\n",
       "      <th>132</th>\n",
       "      <td>Sao Paulo</td>\n",
       "      <td>Brazil</td>\n",
       "      <td>1486551</td>\n",
       "      <td>47222</td>\n",
       "      <td>3237.329676</td>\n",
       "      <td>2021-01-05</td>\n",
       "    </tr>\n",
       "  </tbody>\n",
       "</table>\n",
       "</div>"
      ],
      "text/plain": [
       "    Province_State Country_Region  Confirmed  Deaths  Incident_Rate       Date\n",
       "24       Sao Paulo         Brazil    1466191   46775    3192.990778 2021-01-01\n",
       "51       Sao Paulo         Brazil    1467953   46808    3196.827966 2021-01-02\n",
       "78       Sao Paulo         Brazil    1471422   46845    3204.382565 2021-01-03\n",
       "105      Sao Paulo         Brazil    1473670   46888    3209.278136 2021-01-04\n",
       "132      Sao Paulo         Brazil    1486551   47222    3237.329676 2021-01-05"
      ]
     },
     "execution_count": 7,
     "metadata": {},
     "output_type": "execute_result"
    }
   ],
   "source": [
    "cases.query('Province_State == \"Sao Paulo\"').head()"
   ]
  },
  {
   "cell_type": "code",
   "execution_count": 8,
   "id": "bae4eeb6",
   "metadata": {
    "execution": {
     "iopub.execute_input": "2024-06-19T21:20:32.721995Z",
     "iopub.status.busy": "2024-06-19T21:20:32.721558Z",
     "iopub.status.idle": "2024-06-19T21:20:32.736264Z",
     "shell.execute_reply": "2024-06-19T21:20:32.735004Z"
    },
    "id": "vhpmzARMQid0",
    "outputId": "242405d9-9232-4e10-ef50-a76e22a6cce2",
    "papermill": {
     "duration": 0.043845,
     "end_time": "2024-06-19T21:20:32.739006",
     "exception": false,
     "start_time": "2024-06-19T21:20:32.695161",
     "status": "completed"
    },
    "tags": []
   },
   "outputs": [
    {
     "data": {
      "text/html": [
       "<div>\n",
       "<style scoped>\n",
       "    .dataframe tbody tr th:only-of-type {\n",
       "        vertical-align: middle;\n",
       "    }\n",
       "\n",
       "    .dataframe tbody tr th {\n",
       "        vertical-align: top;\n",
       "    }\n",
       "\n",
       "    .dataframe thead th {\n",
       "        text-align: right;\n",
       "    }\n",
       "</style>\n",
       "<table border=\"1\" class=\"dataframe\">\n",
       "  <thead>\n",
       "    <tr style=\"text-align: right;\">\n",
       "      <th></th>\n",
       "      <th>Province_State</th>\n",
       "      <th>Country_Region</th>\n",
       "      <th>Confirmed</th>\n",
       "      <th>Deaths</th>\n",
       "      <th>Incident_Rate</th>\n",
       "      <th>Date</th>\n",
       "    </tr>\n",
       "  </thead>\n",
       "  <tbody>\n",
       "    <tr>\n",
       "      <th>9823</th>\n",
       "      <td>Roraima</td>\n",
       "      <td>Brazil</td>\n",
       "      <td>128793</td>\n",
       "      <td>2078</td>\n",
       "      <td>21261.355551</td>\n",
       "      <td>2021-12-30</td>\n",
       "    </tr>\n",
       "    <tr>\n",
       "      <th>9824</th>\n",
       "      <td>Santa Catarina</td>\n",
       "      <td>Brazil</td>\n",
       "      <td>1242654</td>\n",
       "      <td>20183</td>\n",
       "      <td>17343.904663</td>\n",
       "      <td>2021-12-30</td>\n",
       "    </tr>\n",
       "    <tr>\n",
       "      <th>9825</th>\n",
       "      <td>Sao Paulo</td>\n",
       "      <td>Brazil</td>\n",
       "      <td>4455011</td>\n",
       "      <td>155186</td>\n",
       "      <td>9701.879932</td>\n",
       "      <td>2021-12-30</td>\n",
       "    </tr>\n",
       "    <tr>\n",
       "      <th>9826</th>\n",
       "      <td>Sergipe</td>\n",
       "      <td>Brazil</td>\n",
       "      <td>278507</td>\n",
       "      <td>6057</td>\n",
       "      <td>12115.869171</td>\n",
       "      <td>2021-12-30</td>\n",
       "    </tr>\n",
       "    <tr>\n",
       "      <th>9827</th>\n",
       "      <td>Tocantins</td>\n",
       "      <td>Brazil</td>\n",
       "      <td>235558</td>\n",
       "      <td>3939</td>\n",
       "      <td>14976.355265</td>\n",
       "      <td>2021-12-30</td>\n",
       "    </tr>\n",
       "  </tbody>\n",
       "</table>\n",
       "</div>"
      ],
      "text/plain": [
       "      Province_State Country_Region  Confirmed  Deaths  Incident_Rate  \\\n",
       "9823         Roraima         Brazil     128793    2078   21261.355551   \n",
       "9824  Santa Catarina         Brazil    1242654   20183   17343.904663   \n",
       "9825       Sao Paulo         Brazil    4455011  155186    9701.879932   \n",
       "9826         Sergipe         Brazil     278507    6057   12115.869171   \n",
       "9827       Tocantins         Brazil     235558    3939   14976.355265   \n",
       "\n",
       "           Date  \n",
       "9823 2021-12-30  \n",
       "9824 2021-12-30  \n",
       "9825 2021-12-30  \n",
       "9826 2021-12-30  \n",
       "9827 2021-12-30  "
      ]
     },
     "execution_count": 8,
     "metadata": {},
     "output_type": "execute_result"
    }
   ],
   "source": [
    "cases.tail()"
   ]
  },
  {
   "cell_type": "markdown",
   "id": "449a7aa1",
   "metadata": {
    "id": "Z3HiqQRkOMGc",
    "papermill": {
     "duration": 0.026177,
     "end_time": "2024-06-19T21:20:32.789998",
     "exception": false,
     "start_time": "2024-06-19T21:20:32.763821",
     "status": "completed"
    },
    "tags": []
   },
   "source": [
    "#### **2.1.2. Wrangling**"
   ]
  },
  {
   "cell_type": "markdown",
   "id": "5bb7f092",
   "metadata": {
    "id": "ceDNL40JzB0K",
    "papermill": {
     "duration": 0.025255,
     "end_time": "2024-06-19T21:20:32.840074",
     "exception": false,
     "start_time": "2024-06-19T21:20:32.814819",
     "status": "completed"
    },
    "tags": []
   },
   "source": [
    "Vamos manipular os dados para o dashboard. O foco é em garantir uma boa granularidade e qualidade da base de dados."
   ]
  },
  {
   "cell_type": "code",
   "execution_count": 9,
   "id": "2be6f7fa",
   "metadata": {
    "execution": {
     "iopub.execute_input": "2024-06-19T21:20:32.892362Z",
     "iopub.status.busy": "2024-06-19T21:20:32.891954Z",
     "iopub.status.idle": "2024-06-19T21:20:32.906769Z",
     "shell.execute_reply": "2024-06-19T21:20:32.905504Z"
    },
    "id": "G66lP6tOqya_",
    "outputId": "bb80d6b9-47ca-491c-835d-2f128422102c",
    "papermill": {
     "duration": 0.044584,
     "end_time": "2024-06-19T21:20:32.909390",
     "exception": false,
     "start_time": "2024-06-19T21:20:32.864806",
     "status": "completed"
    },
    "tags": []
   },
   "outputs": [
    {
     "data": {
      "text/html": [
       "<div>\n",
       "<style scoped>\n",
       "    .dataframe tbody tr th:only-of-type {\n",
       "        vertical-align: middle;\n",
       "    }\n",
       "\n",
       "    .dataframe tbody tr th {\n",
       "        vertical-align: top;\n",
       "    }\n",
       "\n",
       "    .dataframe thead th {\n",
       "        text-align: right;\n",
       "    }\n",
       "</style>\n",
       "<table border=\"1\" class=\"dataframe\">\n",
       "  <thead>\n",
       "    <tr style=\"text-align: right;\">\n",
       "      <th></th>\n",
       "      <th>Province_State</th>\n",
       "      <th>Country_Region</th>\n",
       "      <th>Confirmed</th>\n",
       "      <th>Deaths</th>\n",
       "      <th>Incident_Rate</th>\n",
       "      <th>Date</th>\n",
       "    </tr>\n",
       "  </thead>\n",
       "  <tbody>\n",
       "    <tr>\n",
       "      <th>0</th>\n",
       "      <td>Acre</td>\n",
       "      <td>Brazil</td>\n",
       "      <td>41689</td>\n",
       "      <td>796</td>\n",
       "      <td>4726.992352</td>\n",
       "      <td>2021-01-01</td>\n",
       "    </tr>\n",
       "    <tr>\n",
       "      <th>1</th>\n",
       "      <td>Alagoas</td>\n",
       "      <td>Brazil</td>\n",
       "      <td>105091</td>\n",
       "      <td>2496</td>\n",
       "      <td>3148.928928</td>\n",
       "      <td>2021-01-01</td>\n",
       "    </tr>\n",
       "    <tr>\n",
       "      <th>2</th>\n",
       "      <td>Amapa</td>\n",
       "      <td>Brazil</td>\n",
       "      <td>68361</td>\n",
       "      <td>926</td>\n",
       "      <td>8083.066602</td>\n",
       "      <td>2021-01-01</td>\n",
       "    </tr>\n",
       "    <tr>\n",
       "      <th>3</th>\n",
       "      <td>Amazonas</td>\n",
       "      <td>Brazil</td>\n",
       "      <td>201574</td>\n",
       "      <td>5295</td>\n",
       "      <td>4863.536793</td>\n",
       "      <td>2021-01-01</td>\n",
       "    </tr>\n",
       "    <tr>\n",
       "      <th>4</th>\n",
       "      <td>Bahia</td>\n",
       "      <td>Brazil</td>\n",
       "      <td>494684</td>\n",
       "      <td>9159</td>\n",
       "      <td>3326.039611</td>\n",
       "      <td>2021-01-01</td>\n",
       "    </tr>\n",
       "  </tbody>\n",
       "</table>\n",
       "</div>"
      ],
      "text/plain": [
       "  Province_State Country_Region  Confirmed  Deaths  Incident_Rate       Date\n",
       "0           Acre         Brazil      41689     796    4726.992352 2021-01-01\n",
       "1        Alagoas         Brazil     105091    2496    3148.928928 2021-01-01\n",
       "2          Amapa         Brazil      68361     926    8083.066602 2021-01-01\n",
       "3       Amazonas         Brazil     201574    5295    4863.536793 2021-01-01\n",
       "4          Bahia         Brazil     494684    9159    3326.039611 2021-01-01"
      ]
     },
     "execution_count": 9,
     "metadata": {},
     "output_type": "execute_result"
    }
   ],
   "source": [
    "cases.head()"
   ]
  },
  {
   "cell_type": "code",
   "execution_count": 10,
   "id": "85ed26c7",
   "metadata": {
    "execution": {
     "iopub.execute_input": "2024-06-19T21:20:32.960845Z",
     "iopub.status.busy": "2024-06-19T21:20:32.960438Z",
     "iopub.status.idle": "2024-06-19T21:20:32.968083Z",
     "shell.execute_reply": "2024-06-19T21:20:32.966808Z"
    },
    "id": "Z4yQeP4bVCC5",
    "outputId": "d3adc703-5e79-4a2f-86ff-0becac8a2ba2",
    "papermill": {
     "duration": 0.037061,
     "end_time": "2024-06-19T21:20:32.970557",
     "exception": false,
     "start_time": "2024-06-19T21:20:32.933496",
     "status": "completed"
    },
    "tags": []
   },
   "outputs": [
    {
     "data": {
      "text/plain": [
       "(9828, 6)"
      ]
     },
     "execution_count": 10,
     "metadata": {},
     "output_type": "execute_result"
    }
   ],
   "source": [
    "cases.shape"
   ]
  },
  {
   "cell_type": "code",
   "execution_count": 11,
   "id": "86b74312",
   "metadata": {
    "execution": {
     "iopub.execute_input": "2024-06-19T21:20:33.022364Z",
     "iopub.status.busy": "2024-06-19T21:20:33.021231Z",
     "iopub.status.idle": "2024-06-19T21:20:33.047526Z",
     "shell.execute_reply": "2024-06-19T21:20:33.046231Z"
    },
    "id": "pRs8xDlcU-y0",
    "outputId": "00449805-2d2e-44c9-944e-27a2d3320031",
    "papermill": {
     "duration": 0.056754,
     "end_time": "2024-06-19T21:20:33.051848",
     "exception": false,
     "start_time": "2024-06-19T21:20:32.995094",
     "status": "completed"
    },
    "tags": []
   },
   "outputs": [
    {
     "name": "stdout",
     "output_type": "stream",
     "text": [
      "<class 'pandas.core.frame.DataFrame'>\n",
      "RangeIndex: 9828 entries, 0 to 9827\n",
      "Data columns (total 6 columns):\n",
      " #   Column          Non-Null Count  Dtype         \n",
      "---  ------          --------------  -----         \n",
      " 0   Province_State  9828 non-null   object        \n",
      " 1   Country_Region  9828 non-null   object        \n",
      " 2   Confirmed       9828 non-null   int64         \n",
      " 3   Deaths          9828 non-null   int64         \n",
      " 4   Incident_Rate   9828 non-null   float64       \n",
      " 5   Date            9828 non-null   datetime64[ns]\n",
      "dtypes: datetime64[ns](1), float64(1), int64(2), object(2)\n",
      "memory usage: 460.8+ KB\n"
     ]
    }
   ],
   "source": [
    "cases.info()"
   ]
  },
  {
   "cell_type": "markdown",
   "id": "e79a5721",
   "metadata": {
    "id": "hgFFhUQgzFZ8",
    "papermill": {
     "duration": 0.03289,
     "end_time": "2024-06-19T21:20:33.114537",
     "exception": false,
     "start_time": "2024-06-19T21:20:33.081647",
     "status": "completed"
    },
    "tags": []
   },
   "source": [
    "Começamos com o nome das colunas."
   ]
  },
  {
   "cell_type": "code",
   "execution_count": 12,
   "id": "66fe903a",
   "metadata": {
    "execution": {
     "iopub.execute_input": "2024-06-19T21:20:33.170851Z",
     "iopub.status.busy": "2024-06-19T21:20:33.170439Z",
     "iopub.status.idle": "2024-06-19T21:20:33.183261Z",
     "shell.execute_reply": "2024-06-19T21:20:33.182096Z"
    },
    "id": "1w9pQ8d_UCJO",
    "papermill": {
     "duration": 0.043269,
     "end_time": "2024-06-19T21:20:33.186444",
     "exception": false,
     "start_time": "2024-06-19T21:20:33.143175",
     "status": "completed"
    },
    "tags": []
   },
   "outputs": [],
   "source": [
    "cases = cases.rename(\n",
    "  columns={\n",
    "    'Province_State': 'state',\n",
    "    'Country_Region': 'country'\n",
    "  }\n",
    ")\n",
    "\n",
    "for col in cases.columns:\n",
    "  cases = cases.rename(columns={col: col.lower()})"
   ]
  },
  {
   "cell_type": "markdown",
   "id": "2d985c4c",
   "metadata": {
    "id": "q2p4qjZUn-e2",
    "papermill": {
     "duration": 0.024389,
     "end_time": "2024-06-19T21:20:33.235927",
     "exception": false,
     "start_time": "2024-06-19T21:20:33.211538",
     "status": "completed"
    },
    "tags": []
   },
   "source": [
    "Ajustamos o nome dos estados."
   ]
  },
  {
   "cell_type": "code",
   "execution_count": 13,
   "id": "5cf835fd",
   "metadata": {
    "execution": {
     "iopub.execute_input": "2024-06-19T21:20:33.288354Z",
     "iopub.status.busy": "2024-06-19T21:20:33.287975Z",
     "iopub.status.idle": "2024-06-19T21:20:33.301875Z",
     "shell.execute_reply": "2024-06-19T21:20:33.300650Z"
    },
    "id": "LBajRRZEnlms",
    "papermill": {
     "duration": 0.043095,
     "end_time": "2024-06-19T21:20:33.304342",
     "exception": false,
     "start_time": "2024-06-19T21:20:33.261247",
     "status": "completed"
    },
    "tags": []
   },
   "outputs": [],
   "source": [
    "states_map = {\n",
    "    'Amapa': 'Amapá',\n",
    "    'Ceara': 'Ceará',\n",
    "    'Espirito Santo': 'Espírito Santo',\n",
    "    'Goias': 'Goiás',\n",
    "    'Para': 'Pará',\n",
    "    'Paraiba': 'Paraíba',\n",
    "    'Parana': 'Paraná',\n",
    "    'Piaui': 'Piauí',\n",
    "    'Rondonia': 'Rondônia',\n",
    "    'Sao Paulo': 'São Paulo'\n",
    "}\n",
    "\n",
    "cases['state'] = cases['state'].apply(lambda state: states_map.get(state) if state in states_map.keys() else state)"
   ]
  },
  {
   "cell_type": "markdown",
   "id": "03945002",
   "metadata": {
    "id": "niRCU0-JzHV2",
    "papermill": {
     "duration": 0.024631,
     "end_time": "2024-06-19T21:20:33.354069",
     "exception": false,
     "start_time": "2024-06-19T21:20:33.329438",
     "status": "completed"
    },
    "tags": []
   },
   "source": [
    "Vamos então computar novas colunas para enriquecer a base de dados."
   ]
  },
  {
   "cell_type": "markdown",
   "id": "33c272c3",
   "metadata": {
    "id": "V8Ijno5d28L-",
    "papermill": {
     "duration": 0.025237,
     "end_time": "2024-06-19T21:20:33.403939",
     "exception": false,
     "start_time": "2024-06-19T21:20:33.378702",
     "status": "completed"
    },
    "tags": []
   },
   "source": [
    " - Chaves temporais:"
   ]
  },
  {
   "cell_type": "code",
   "execution_count": 14,
   "id": "7f83a500",
   "metadata": {
    "execution": {
     "iopub.execute_input": "2024-06-19T21:20:33.457134Z",
     "iopub.status.busy": "2024-06-19T21:20:33.456730Z",
     "iopub.status.idle": "2024-06-19T21:20:33.613607Z",
     "shell.execute_reply": "2024-06-19T21:20:33.612481Z"
    },
    "id": "uRYhqYtRYYPI",
    "papermill": {
     "duration": 0.187425,
     "end_time": "2024-06-19T21:20:33.616638",
     "exception": false,
     "start_time": "2024-06-19T21:20:33.429213",
     "status": "completed"
    },
    "tags": []
   },
   "outputs": [],
   "source": [
    "cases['month'] = cases['date'].apply(lambda date: date.strftime('%Y-%m'))\n",
    "cases['year']  = cases['date'].apply(lambda date: date.strftime('%Y'))"
   ]
  },
  {
   "cell_type": "markdown",
   "id": "1a174ed7",
   "metadata": {
    "id": "d9tjVG7o2_IT",
    "papermill": {
     "duration": 0.024573,
     "end_time": "2024-06-19T21:20:33.666548",
     "exception": false,
     "start_time": "2024-06-19T21:20:33.641975",
     "status": "completed"
    },
    "tags": []
   },
   "source": [
    " - População estimada do estado:"
   ]
  },
  {
   "cell_type": "code",
   "execution_count": 15,
   "id": "63e9d81d",
   "metadata": {
    "execution": {
     "iopub.execute_input": "2024-06-19T21:20:33.718916Z",
     "iopub.status.busy": "2024-06-19T21:20:33.718520Z",
     "iopub.status.idle": "2024-06-19T21:20:33.730106Z",
     "shell.execute_reply": "2024-06-19T21:20:33.728479Z"
    },
    "id": "1U6wV_zngbZW",
    "papermill": {
     "duration": 0.041346,
     "end_time": "2024-06-19T21:20:33.733044",
     "exception": false,
     "start_time": "2024-06-19T21:20:33.691698",
     "status": "completed"
    },
    "tags": []
   },
   "outputs": [],
   "source": [
    "cases['population'] = round(100000 * (cases['confirmed'] / cases['incident_rate']))\n",
    "cases = cases.drop('incident_rate', axis=1)"
   ]
  },
  {
   "cell_type": "markdown",
   "id": "7812def6",
   "metadata": {
    "id": "LCxMEJP53E3v",
    "papermill": {
     "duration": 0.026315,
     "end_time": "2024-06-19T21:20:33.786614",
     "exception": false,
     "start_time": "2024-06-19T21:20:33.760299",
     "status": "completed"
    },
    "tags": []
   },
   "source": [
    " - Número, média móvel (7 dias) e estabilidade (14 dias) de casos e mortes por estado:"
   ]
  },
  {
   "cell_type": "markdown",
   "id": "c8c362f2",
   "metadata": {
    "id": "ZSHsw4H1oyjI",
    "papermill": {
     "duration": 0.025264,
     "end_time": "2024-06-19T21:20:33.837655",
     "exception": false,
     "start_time": "2024-06-19T21:20:33.812391",
     "status": "completed"
    },
    "tags": []
   },
   "source": [
    "| 1 | 2 | 3 | 4 | 5 | 6 | <font color='red'>7</font> | <font color='green'>8</font> | 9 | 10 | 11 | 12 | 13 | <font color='blue'>14<font color='red'> | 15 | 16 | 17 | 18 | 19 | 20 | 21 |\n",
    "| - | - | - | - | - | - | - | - | - | -- | -- | -- | -- | -- | -- | -- | -- | -- | -- | -- | -- |\n",
    "| <font color='red'>D-6</font> | <font color='red'>D-5</font> | <font color='red'>D-4</font> | <font color='red'>D-3</font> | <font color='red'>D-2</font> | <font color='red'>D-1</font> | <font color='red'>D0</font> | | | | | | | | | | | | | | |\n",
    "| D-7 | <font color='green'>D-6</font> | <font color='green'>D-5</font> | <font color='green'>D-4</font> | <font color='green'>D-3</font> | <font color='green'>D-2</font> | <font color='green'>D-1</font> | <font color='green'>D0</font> | | | | | | | | | | | | | |\n",
    "| D-13 | D-12 | D-11 | D-10 | D-9 | D-8 | D-7 | <font color='blue'>D-6</font> | <font color='blue'>D-5</font> | <font color='blue'>D-4</font> | <font color='blue'>D-3</font> | <font color='blue'>D-2</font> | <font color='blue'>D-1</font> | <font color='blue'>D0</font> | | | | | | | |"
   ]
  },
  {
   "cell_type": "code",
   "execution_count": 16,
   "id": "bdacf596",
   "metadata": {
    "execution": {
     "iopub.execute_input": "2024-06-19T21:20:33.890061Z",
     "iopub.status.busy": "2024-06-19T21:20:33.889686Z",
     "iopub.status.idle": "2024-06-19T21:20:34.306115Z",
     "shell.execute_reply": "2024-06-19T21:20:34.304881Z"
    },
    "id": "8ytrpaND3ZMQ",
    "papermill": {
     "duration": 0.445569,
     "end_time": "2024-06-19T21:20:34.309037",
     "exception": false,
     "start_time": "2024-06-19T21:20:33.863468",
     "status": "completed"
    },
    "tags": []
   },
   "outputs": [],
   "source": [
    "cases_ = None\n",
    "cases_is_empty = True\n",
    "\n",
    "def get_trend(rate: float) -> str:\n",
    "\n",
    "  if np.isnan(rate):\n",
    "    return np.NaN\n",
    "\n",
    "  if rate < 0.85:\n",
    "    status = 'downward'\n",
    "  elif rate > 1.15:\n",
    "    status = 'upward'\n",
    "  else:\n",
    "    status = 'stable'\n",
    "\n",
    "  return status\n",
    "\n",
    "\n",
    "for state in cases['state'].drop_duplicates():\n",
    "\n",
    "  cases_per_state = cases.query(f'state == \"{state}\"').reset_index(drop=True)\n",
    "  cases_per_state = cases_per_state.sort_values(by=['date'])\n",
    "\n",
    "  cases_per_state['confirmed_1d'] = cases_per_state['confirmed'].diff(periods=1)\n",
    "  cases_per_state['confirmed_moving_avg_7d'] = np.ceil(cases_per_state['confirmed_1d'].rolling(window=7).mean())\n",
    "  cases_per_state['confirmed_moving_avg_7d_rate_14d'] = cases_per_state['confirmed_moving_avg_7d']/cases_per_state['confirmed_moving_avg_7d'].shift(periods=14)\n",
    "  cases_per_state['confirmed_trend'] = cases_per_state['confirmed_moving_avg_7d_rate_14d'].apply(get_trend)\n",
    "\n",
    "  cases_per_state['deaths_1d'] = cases_per_state['deaths'].diff(periods=1)\n",
    "  cases_per_state['deaths_moving_avg_7d'] = np.ceil(cases_per_state['deaths_1d'].rolling(window=7).mean())\n",
    "  cases_per_state['deaths_moving_avg_7d_rate_14d'] = cases_per_state['deaths_moving_avg_7d']/cases_per_state['deaths_moving_avg_7d'].shift(periods=14)\n",
    "  cases_per_state['deaths_trend'] = cases_per_state['deaths_moving_avg_7d_rate_14d'].apply(get_trend)\n",
    "\n",
    "  if cases_is_empty:\n",
    "    cases_ = cases_per_state\n",
    "    cases_is_empty = False\n",
    "  else:\n",
    "    cases_ = pd.concat([cases_,cases_per_state], ignore_index=True)\n",
    "\n",
    "cases = cases_\n",
    "cases_ = None"
   ]
  },
  {
   "cell_type": "markdown",
   "id": "a51f9984",
   "metadata": {
    "id": "hisru_0i07Pg",
    "papermill": {
     "duration": 0.024525,
     "end_time": "2024-06-19T21:20:34.358592",
     "exception": false,
     "start_time": "2024-06-19T21:20:34.334067",
     "status": "completed"
    },
    "tags": []
   },
   "source": [
    "Garantir o tipo do dado é fundamental para consistência da base de dados. Vamos fazer o *type casting* das colunas."
   ]
  },
  {
   "cell_type": "code",
   "execution_count": 17,
   "id": "5c499875",
   "metadata": {
    "execution": {
     "iopub.execute_input": "2024-06-19T21:20:34.412180Z",
     "iopub.status.busy": "2024-06-19T21:20:34.411775Z",
     "iopub.status.idle": "2024-06-19T21:20:34.439844Z",
     "shell.execute_reply": "2024-06-19T21:20:34.438567Z"
    },
    "id": "p7nalDg6KvFZ",
    "papermill": {
     "duration": 0.058341,
     "end_time": "2024-06-19T21:20:34.442918",
     "exception": false,
     "start_time": "2024-06-19T21:20:34.384577",
     "status": "completed"
    },
    "tags": []
   },
   "outputs": [],
   "source": [
    "cases['population'] = cases['population'].astype('Int64')\n",
    "cases['confirmed_1d'] = cases['confirmed_1d'].astype('Int64')\n",
    "cases['confirmed_moving_avg_7d'] = cases['confirmed_moving_avg_7d'].astype('Int64')\n",
    "cases['deaths_1d'] = cases['deaths_1d'].astype('Int64')\n",
    "cases['deaths_moving_avg_7d'] = cases['deaths_moving_avg_7d'].astype('Int64')"
   ]
  },
  {
   "cell_type": "markdown",
   "id": "61406016",
   "metadata": {
    "id": "LOwQaxtfgYka",
    "papermill": {
     "duration": 0.025098,
     "end_time": "2024-06-19T21:20:34.493981",
     "exception": false,
     "start_time": "2024-06-19T21:20:34.468883",
     "status": "completed"
    },
    "tags": []
   },
   "source": [
    "Por fim, vamos reorganizar as colunas e conferir o resultado final."
   ]
  },
  {
   "cell_type": "code",
   "execution_count": 18,
   "id": "1b55ad96",
   "metadata": {
    "execution": {
     "iopub.execute_input": "2024-06-19T21:20:34.548636Z",
     "iopub.status.busy": "2024-06-19T21:20:34.547247Z",
     "iopub.status.idle": "2024-06-19T21:20:34.558221Z",
     "shell.execute_reply": "2024-06-19T21:20:34.557018Z"
    },
    "id": "6fkkdIXVZL-E",
    "papermill": {
     "duration": 0.0412,
     "end_time": "2024-06-19T21:20:34.561135",
     "exception": false,
     "start_time": "2024-06-19T21:20:34.519935",
     "status": "completed"
    },
    "tags": []
   },
   "outputs": [],
   "source": [
    "cases = cases[['date', 'country', 'state', 'population', 'confirmed', 'confirmed_1d', 'confirmed_moving_avg_7d', 'confirmed_moving_avg_7d_rate_14d', 'confirmed_trend', 'deaths', 'deaths_1d', 'deaths_moving_avg_7d', 'deaths_moving_avg_7d_rate_14d', 'deaths_trend', 'month', 'year']]"
   ]
  },
  {
   "cell_type": "code",
   "execution_count": 19,
   "id": "92a77e2c",
   "metadata": {
    "execution": {
     "iopub.execute_input": "2024-06-19T21:20:34.614342Z",
     "iopub.status.busy": "2024-06-19T21:20:34.613929Z",
     "iopub.status.idle": "2024-06-19T21:20:34.638017Z",
     "shell.execute_reply": "2024-06-19T21:20:34.636719Z"
    },
    "id": "wUZetbA5zNO8",
    "outputId": "53a24207-88c9-4289-edb9-41b15ab23045",
    "papermill": {
     "duration": 0.054412,
     "end_time": "2024-06-19T21:20:34.640899",
     "exception": false,
     "start_time": "2024-06-19T21:20:34.586487",
     "status": "completed"
    },
    "tags": []
   },
   "outputs": [
    {
     "data": {
      "text/html": [
       "<div>\n",
       "<style scoped>\n",
       "    .dataframe tbody tr th:only-of-type {\n",
       "        vertical-align: middle;\n",
       "    }\n",
       "\n",
       "    .dataframe tbody tr th {\n",
       "        vertical-align: top;\n",
       "    }\n",
       "\n",
       "    .dataframe thead th {\n",
       "        text-align: right;\n",
       "    }\n",
       "</style>\n",
       "<table border=\"1\" class=\"dataframe\">\n",
       "  <thead>\n",
       "    <tr style=\"text-align: right;\">\n",
       "      <th></th>\n",
       "      <th>date</th>\n",
       "      <th>country</th>\n",
       "      <th>state</th>\n",
       "      <th>population</th>\n",
       "      <th>confirmed</th>\n",
       "      <th>confirmed_1d</th>\n",
       "      <th>confirmed_moving_avg_7d</th>\n",
       "      <th>confirmed_moving_avg_7d_rate_14d</th>\n",
       "      <th>confirmed_trend</th>\n",
       "      <th>deaths</th>\n",
       "      <th>deaths_1d</th>\n",
       "      <th>deaths_moving_avg_7d</th>\n",
       "      <th>deaths_moving_avg_7d_rate_14d</th>\n",
       "      <th>deaths_trend</th>\n",
       "      <th>month</th>\n",
       "      <th>year</th>\n",
       "    </tr>\n",
       "  </thead>\n",
       "  <tbody>\n",
       "    <tr>\n",
       "      <th>0</th>\n",
       "      <td>2021-01-01</td>\n",
       "      <td>Brazil</td>\n",
       "      <td>Acre</td>\n",
       "      <td>881935</td>\n",
       "      <td>41689</td>\n",
       "      <td>&lt;NA&gt;</td>\n",
       "      <td>&lt;NA&gt;</td>\n",
       "      <td>NaN</td>\n",
       "      <td>NaN</td>\n",
       "      <td>796</td>\n",
       "      <td>&lt;NA&gt;</td>\n",
       "      <td>&lt;NA&gt;</td>\n",
       "      <td>NaN</td>\n",
       "      <td>NaN</td>\n",
       "      <td>2021-01</td>\n",
       "      <td>2021</td>\n",
       "    </tr>\n",
       "    <tr>\n",
       "      <th>1</th>\n",
       "      <td>2021-01-02</td>\n",
       "      <td>Brazil</td>\n",
       "      <td>Acre</td>\n",
       "      <td>881935</td>\n",
       "      <td>41941</td>\n",
       "      <td>252</td>\n",
       "      <td>&lt;NA&gt;</td>\n",
       "      <td>NaN</td>\n",
       "      <td>NaN</td>\n",
       "      <td>798</td>\n",
       "      <td>2</td>\n",
       "      <td>&lt;NA&gt;</td>\n",
       "      <td>NaN</td>\n",
       "      <td>NaN</td>\n",
       "      <td>2021-01</td>\n",
       "      <td>2021</td>\n",
       "    </tr>\n",
       "    <tr>\n",
       "      <th>2</th>\n",
       "      <td>2021-01-03</td>\n",
       "      <td>Brazil</td>\n",
       "      <td>Acre</td>\n",
       "      <td>881935</td>\n",
       "      <td>42046</td>\n",
       "      <td>105</td>\n",
       "      <td>&lt;NA&gt;</td>\n",
       "      <td>NaN</td>\n",
       "      <td>NaN</td>\n",
       "      <td>802</td>\n",
       "      <td>4</td>\n",
       "      <td>&lt;NA&gt;</td>\n",
       "      <td>NaN</td>\n",
       "      <td>NaN</td>\n",
       "      <td>2021-01</td>\n",
       "      <td>2021</td>\n",
       "    </tr>\n",
       "    <tr>\n",
       "      <th>3</th>\n",
       "      <td>2021-01-04</td>\n",
       "      <td>Brazil</td>\n",
       "      <td>Acre</td>\n",
       "      <td>881935</td>\n",
       "      <td>42117</td>\n",
       "      <td>71</td>\n",
       "      <td>&lt;NA&gt;</td>\n",
       "      <td>NaN</td>\n",
       "      <td>NaN</td>\n",
       "      <td>806</td>\n",
       "      <td>4</td>\n",
       "      <td>&lt;NA&gt;</td>\n",
       "      <td>NaN</td>\n",
       "      <td>NaN</td>\n",
       "      <td>2021-01</td>\n",
       "      <td>2021</td>\n",
       "    </tr>\n",
       "    <tr>\n",
       "      <th>4</th>\n",
       "      <td>2021-01-05</td>\n",
       "      <td>Brazil</td>\n",
       "      <td>Acre</td>\n",
       "      <td>881935</td>\n",
       "      <td>42170</td>\n",
       "      <td>53</td>\n",
       "      <td>&lt;NA&gt;</td>\n",
       "      <td>NaN</td>\n",
       "      <td>NaN</td>\n",
       "      <td>808</td>\n",
       "      <td>2</td>\n",
       "      <td>&lt;NA&gt;</td>\n",
       "      <td>NaN</td>\n",
       "      <td>NaN</td>\n",
       "      <td>2021-01</td>\n",
       "      <td>2021</td>\n",
       "    </tr>\n",
       "  </tbody>\n",
       "</table>\n",
       "</div>"
      ],
      "text/plain": [
       "        date country state  population  confirmed  confirmed_1d  \\\n",
       "0 2021-01-01  Brazil  Acre      881935      41689          <NA>   \n",
       "1 2021-01-02  Brazil  Acre      881935      41941           252   \n",
       "2 2021-01-03  Brazil  Acre      881935      42046           105   \n",
       "3 2021-01-04  Brazil  Acre      881935      42117            71   \n",
       "4 2021-01-05  Brazil  Acre      881935      42170            53   \n",
       "\n",
       "   confirmed_moving_avg_7d  confirmed_moving_avg_7d_rate_14d confirmed_trend  \\\n",
       "0                     <NA>                               NaN             NaN   \n",
       "1                     <NA>                               NaN             NaN   \n",
       "2                     <NA>                               NaN             NaN   \n",
       "3                     <NA>                               NaN             NaN   \n",
       "4                     <NA>                               NaN             NaN   \n",
       "\n",
       "   deaths  deaths_1d  deaths_moving_avg_7d  deaths_moving_avg_7d_rate_14d  \\\n",
       "0     796       <NA>                  <NA>                            NaN   \n",
       "1     798          2                  <NA>                            NaN   \n",
       "2     802          4                  <NA>                            NaN   \n",
       "3     806          4                  <NA>                            NaN   \n",
       "4     808          2                  <NA>                            NaN   \n",
       "\n",
       "  deaths_trend    month  year  \n",
       "0          NaN  2021-01  2021  \n",
       "1          NaN  2021-01  2021  \n",
       "2          NaN  2021-01  2021  \n",
       "3          NaN  2021-01  2021  \n",
       "4          NaN  2021-01  2021  "
      ]
     },
     "execution_count": 19,
     "metadata": {},
     "output_type": "execute_result"
    }
   ],
   "source": [
    "cases.head(n=5)"
   ]
  },
  {
   "cell_type": "markdown",
   "id": "cabc6837",
   "metadata": {
    "id": "KaLl8zdofQwE",
    "papermill": {
     "duration": 0.028336,
     "end_time": "2024-06-19T21:20:34.697372",
     "exception": false,
     "start_time": "2024-06-19T21:20:34.669036",
     "status": "completed"
    },
    "tags": []
   },
   "source": [
    "#### **2.1.3. Carregamento**"
   ]
  },
  {
   "cell_type": "markdown",
   "id": "556b4b06",
   "metadata": {
    "id": "b1vD9VLafQwG",
    "papermill": {
     "duration": 0.025864,
     "end_time": "2024-06-19T21:20:34.749796",
     "exception": false,
     "start_time": "2024-06-19T21:20:34.723932",
     "status": "completed"
    },
    "tags": []
   },
   "source": [
    "Com os dados manipulados, vamos persisti-lo em disco, fazer o seu download e carrega-lo no Google Data Studio."
   ]
  },
  {
   "cell_type": "code",
   "execution_count": 20,
   "id": "b748f873",
   "metadata": {
    "execution": {
     "iopub.execute_input": "2024-06-19T21:20:34.805280Z",
     "iopub.status.busy": "2024-06-19T21:20:34.804829Z",
     "iopub.status.idle": "2024-06-19T21:20:34.960908Z",
     "shell.execute_reply": "2024-06-19T21:20:34.959568Z"
    },
    "id": "mAazd-g0fQwG",
    "papermill": {
     "duration": 0.187758,
     "end_time": "2024-06-19T21:20:34.963864",
     "exception": false,
     "start_time": "2024-06-19T21:20:34.776106",
     "status": "completed"
    },
    "tags": []
   },
   "outputs": [],
   "source": [
    "cases.to_csv('./covid-cases.csv', sep=',', index=False)"
   ]
  },
  {
   "cell_type": "markdown",
   "id": "69da9c57",
   "metadata": {
    "id": "ndJlwEdGpvRO",
    "papermill": {
     "duration": 0.026314,
     "end_time": "2024-06-19T21:20:35.017147",
     "exception": false,
     "start_time": "2024-06-19T21:20:34.990833",
     "status": "completed"
    },
    "tags": []
   },
   "source": [
    "### **2.2. Vacinação**"
   ]
  },
  {
   "cell_type": "markdown",
   "id": "d3e569b5",
   "metadata": {
    "id": "4KimqDnGbHbI",
    "papermill": {
     "duration": 0.026164,
     "end_time": "2024-06-19T21:20:35.071169",
     "exception": false,
     "start_time": "2024-06-19T21:20:35.045005",
     "status": "completed"
    },
    "tags": []
   },
   "source": [
    "Vamos processar os dados de **vacinação** da universidade de Oxford."
   ]
  },
  {
   "cell_type": "markdown",
   "id": "74a5e1a5",
   "metadata": {
    "id": "3SsBfzTOUwZh",
    "papermill": {
     "duration": 0.02624,
     "end_time": "2024-06-19T21:20:35.124627",
     "exception": false,
     "start_time": "2024-06-19T21:20:35.098387",
     "status": "completed"
    },
    "tags": []
   },
   "source": [
    "#### **2.2.1. Extração**"
   ]
  },
  {
   "cell_type": "markdown",
   "id": "a41d29e5",
   "metadata": {
    "id": "k6ZYYdAKRQGS",
    "papermill": {
     "duration": 0.025285,
     "end_time": "2024-06-19T21:20:35.178053",
     "exception": false,
     "start_time": "2024-06-19T21:20:35.152768",
     "status": "completed"
    },
    "tags": []
   },
   "source": [
    "Os dados estão compilados em um único arquivo."
   ]
  },
  {
   "cell_type": "code",
   "execution_count": 21,
   "id": "fd72b78e",
   "metadata": {
    "execution": {
     "iopub.execute_input": "2024-06-19T21:20:35.232168Z",
     "iopub.status.busy": "2024-06-19T21:20:35.231755Z",
     "iopub.status.idle": "2024-06-19T21:20:42.209068Z",
     "shell.execute_reply": "2024-06-19T21:20:42.207927Z"
    },
    "id": "G8nM5lc0USbd",
    "papermill": {
     "duration": 7.008106,
     "end_time": "2024-06-19T21:20:42.212121",
     "exception": false,
     "start_time": "2024-06-19T21:20:35.204015",
     "status": "completed"
    },
    "tags": []
   },
   "outputs": [
    {
     "name": "stderr",
     "output_type": "stream",
     "text": [
      "/tmp/ipykernel_18/738699849.py:1: FutureWarning: The argument 'infer_datetime_format' is deprecated and will be removed in a future version. A strict version of it is now the default, see https://pandas.pydata.org/pdeps/0004-consistent-to-datetime-parsing.html. You can safely remove this argument.\n",
      "  vaccines = pd.read_csv('https://covid.ourworldindata.org/data/owid-covid-data.csv', sep=',', parse_dates=[3], infer_datetime_format=True)\n"
     ]
    }
   ],
   "source": [
    "vaccines = pd.read_csv('https://covid.ourworldindata.org/data/owid-covid-data.csv', sep=',', parse_dates=[3], infer_datetime_format=True)"
   ]
  },
  {
   "cell_type": "code",
   "execution_count": 22,
   "id": "2542b30a",
   "metadata": {
    "execution": {
     "iopub.execute_input": "2024-06-19T21:20:42.267829Z",
     "iopub.status.busy": "2024-06-19T21:20:42.267024Z",
     "iopub.status.idle": "2024-06-19T21:20:42.298105Z",
     "shell.execute_reply": "2024-06-19T21:20:42.296755Z"
    },
    "id": "UCLtev1dUnuY",
    "outputId": "cac53fd8-60a8-4bf7-a428-58069b845ad2",
    "papermill": {
     "duration": 0.062255,
     "end_time": "2024-06-19T21:20:42.300890",
     "exception": false,
     "start_time": "2024-06-19T21:20:42.238635",
     "status": "completed"
    },
    "tags": []
   },
   "outputs": [
    {
     "data": {
      "text/html": [
       "<div>\n",
       "<style scoped>\n",
       "    .dataframe tbody tr th:only-of-type {\n",
       "        vertical-align: middle;\n",
       "    }\n",
       "\n",
       "    .dataframe tbody tr th {\n",
       "        vertical-align: top;\n",
       "    }\n",
       "\n",
       "    .dataframe thead th {\n",
       "        text-align: right;\n",
       "    }\n",
       "</style>\n",
       "<table border=\"1\" class=\"dataframe\">\n",
       "  <thead>\n",
       "    <tr style=\"text-align: right;\">\n",
       "      <th></th>\n",
       "      <th>iso_code</th>\n",
       "      <th>continent</th>\n",
       "      <th>location</th>\n",
       "      <th>date</th>\n",
       "      <th>total_cases</th>\n",
       "      <th>new_cases</th>\n",
       "      <th>new_cases_smoothed</th>\n",
       "      <th>total_deaths</th>\n",
       "      <th>new_deaths</th>\n",
       "      <th>new_deaths_smoothed</th>\n",
       "      <th>...</th>\n",
       "      <th>male_smokers</th>\n",
       "      <th>handwashing_facilities</th>\n",
       "      <th>hospital_beds_per_thousand</th>\n",
       "      <th>life_expectancy</th>\n",
       "      <th>human_development_index</th>\n",
       "      <th>population</th>\n",
       "      <th>excess_mortality_cumulative_absolute</th>\n",
       "      <th>excess_mortality_cumulative</th>\n",
       "      <th>excess_mortality</th>\n",
       "      <th>excess_mortality_cumulative_per_million</th>\n",
       "    </tr>\n",
       "  </thead>\n",
       "  <tbody>\n",
       "    <tr>\n",
       "      <th>0</th>\n",
       "      <td>AFG</td>\n",
       "      <td>Asia</td>\n",
       "      <td>Afghanistan</td>\n",
       "      <td>2020-01-05</td>\n",
       "      <td>NaN</td>\n",
       "      <td>0.0</td>\n",
       "      <td>NaN</td>\n",
       "      <td>NaN</td>\n",
       "      <td>0.0</td>\n",
       "      <td>NaN</td>\n",
       "      <td>...</td>\n",
       "      <td>NaN</td>\n",
       "      <td>37.746</td>\n",
       "      <td>0.5</td>\n",
       "      <td>64.83</td>\n",
       "      <td>0.511</td>\n",
       "      <td>41128772.0</td>\n",
       "      <td>NaN</td>\n",
       "      <td>NaN</td>\n",
       "      <td>NaN</td>\n",
       "      <td>NaN</td>\n",
       "    </tr>\n",
       "    <tr>\n",
       "      <th>1</th>\n",
       "      <td>AFG</td>\n",
       "      <td>Asia</td>\n",
       "      <td>Afghanistan</td>\n",
       "      <td>2020-01-06</td>\n",
       "      <td>NaN</td>\n",
       "      <td>0.0</td>\n",
       "      <td>NaN</td>\n",
       "      <td>NaN</td>\n",
       "      <td>0.0</td>\n",
       "      <td>NaN</td>\n",
       "      <td>...</td>\n",
       "      <td>NaN</td>\n",
       "      <td>37.746</td>\n",
       "      <td>0.5</td>\n",
       "      <td>64.83</td>\n",
       "      <td>0.511</td>\n",
       "      <td>41128772.0</td>\n",
       "      <td>NaN</td>\n",
       "      <td>NaN</td>\n",
       "      <td>NaN</td>\n",
       "      <td>NaN</td>\n",
       "    </tr>\n",
       "    <tr>\n",
       "      <th>2</th>\n",
       "      <td>AFG</td>\n",
       "      <td>Asia</td>\n",
       "      <td>Afghanistan</td>\n",
       "      <td>2020-01-07</td>\n",
       "      <td>NaN</td>\n",
       "      <td>0.0</td>\n",
       "      <td>NaN</td>\n",
       "      <td>NaN</td>\n",
       "      <td>0.0</td>\n",
       "      <td>NaN</td>\n",
       "      <td>...</td>\n",
       "      <td>NaN</td>\n",
       "      <td>37.746</td>\n",
       "      <td>0.5</td>\n",
       "      <td>64.83</td>\n",
       "      <td>0.511</td>\n",
       "      <td>41128772.0</td>\n",
       "      <td>NaN</td>\n",
       "      <td>NaN</td>\n",
       "      <td>NaN</td>\n",
       "      <td>NaN</td>\n",
       "    </tr>\n",
       "    <tr>\n",
       "      <th>3</th>\n",
       "      <td>AFG</td>\n",
       "      <td>Asia</td>\n",
       "      <td>Afghanistan</td>\n",
       "      <td>2020-01-08</td>\n",
       "      <td>NaN</td>\n",
       "      <td>0.0</td>\n",
       "      <td>NaN</td>\n",
       "      <td>NaN</td>\n",
       "      <td>0.0</td>\n",
       "      <td>NaN</td>\n",
       "      <td>...</td>\n",
       "      <td>NaN</td>\n",
       "      <td>37.746</td>\n",
       "      <td>0.5</td>\n",
       "      <td>64.83</td>\n",
       "      <td>0.511</td>\n",
       "      <td>41128772.0</td>\n",
       "      <td>NaN</td>\n",
       "      <td>NaN</td>\n",
       "      <td>NaN</td>\n",
       "      <td>NaN</td>\n",
       "    </tr>\n",
       "    <tr>\n",
       "      <th>4</th>\n",
       "      <td>AFG</td>\n",
       "      <td>Asia</td>\n",
       "      <td>Afghanistan</td>\n",
       "      <td>2020-01-09</td>\n",
       "      <td>NaN</td>\n",
       "      <td>0.0</td>\n",
       "      <td>NaN</td>\n",
       "      <td>NaN</td>\n",
       "      <td>0.0</td>\n",
       "      <td>NaN</td>\n",
       "      <td>...</td>\n",
       "      <td>NaN</td>\n",
       "      <td>37.746</td>\n",
       "      <td>0.5</td>\n",
       "      <td>64.83</td>\n",
       "      <td>0.511</td>\n",
       "      <td>41128772.0</td>\n",
       "      <td>NaN</td>\n",
       "      <td>NaN</td>\n",
       "      <td>NaN</td>\n",
       "      <td>NaN</td>\n",
       "    </tr>\n",
       "  </tbody>\n",
       "</table>\n",
       "<p>5 rows × 67 columns</p>\n",
       "</div>"
      ],
      "text/plain": [
       "  iso_code continent     location       date  total_cases  new_cases  \\\n",
       "0      AFG      Asia  Afghanistan 2020-01-05          NaN        0.0   \n",
       "1      AFG      Asia  Afghanistan 2020-01-06          NaN        0.0   \n",
       "2      AFG      Asia  Afghanistan 2020-01-07          NaN        0.0   \n",
       "3      AFG      Asia  Afghanistan 2020-01-08          NaN        0.0   \n",
       "4      AFG      Asia  Afghanistan 2020-01-09          NaN        0.0   \n",
       "\n",
       "   new_cases_smoothed  total_deaths  new_deaths  new_deaths_smoothed  ...  \\\n",
       "0                 NaN           NaN         0.0                  NaN  ...   \n",
       "1                 NaN           NaN         0.0                  NaN  ...   \n",
       "2                 NaN           NaN         0.0                  NaN  ...   \n",
       "3                 NaN           NaN         0.0                  NaN  ...   \n",
       "4                 NaN           NaN         0.0                  NaN  ...   \n",
       "\n",
       "   male_smokers  handwashing_facilities  hospital_beds_per_thousand  \\\n",
       "0           NaN                  37.746                         0.5   \n",
       "1           NaN                  37.746                         0.5   \n",
       "2           NaN                  37.746                         0.5   \n",
       "3           NaN                  37.746                         0.5   \n",
       "4           NaN                  37.746                         0.5   \n",
       "\n",
       "   life_expectancy  human_development_index  population  \\\n",
       "0            64.83                    0.511  41128772.0   \n",
       "1            64.83                    0.511  41128772.0   \n",
       "2            64.83                    0.511  41128772.0   \n",
       "3            64.83                    0.511  41128772.0   \n",
       "4            64.83                    0.511  41128772.0   \n",
       "\n",
       "   excess_mortality_cumulative_absolute  excess_mortality_cumulative  \\\n",
       "0                                   NaN                          NaN   \n",
       "1                                   NaN                          NaN   \n",
       "2                                   NaN                          NaN   \n",
       "3                                   NaN                          NaN   \n",
       "4                                   NaN                          NaN   \n",
       "\n",
       "   excess_mortality  excess_mortality_cumulative_per_million  \n",
       "0               NaN                                      NaN  \n",
       "1               NaN                                      NaN  \n",
       "2               NaN                                      NaN  \n",
       "3               NaN                                      NaN  \n",
       "4               NaN                                      NaN  \n",
       "\n",
       "[5 rows x 67 columns]"
      ]
     },
     "execution_count": 22,
     "metadata": {},
     "output_type": "execute_result"
    }
   ],
   "source": [
    "vaccines.head()"
   ]
  },
  {
   "cell_type": "markdown",
   "id": "7fdf0fb0",
   "metadata": {
    "id": "ImybLrrgRS4v",
    "papermill": {
     "duration": 0.027078,
     "end_time": "2024-06-19T21:20:42.355607",
     "exception": false,
     "start_time": "2024-06-19T21:20:42.328529",
     "status": "completed"
    },
    "tags": []
   },
   "source": [
    "Vamos selecionar as colunas de interesse e as linhas referentes ao Brasil."
   ]
  },
  {
   "cell_type": "code",
   "execution_count": 23,
   "id": "d9191593",
   "metadata": {
    "execution": {
     "iopub.execute_input": "2024-06-19T21:20:42.410755Z",
     "iopub.status.busy": "2024-06-19T21:20:42.410313Z",
     "iopub.status.idle": "2024-06-19T21:20:42.447753Z",
     "shell.execute_reply": "2024-06-19T21:20:42.446495Z"
    },
    "id": "4RNfnnUZW6DY",
    "papermill": {
     "duration": 0.068833,
     "end_time": "2024-06-19T21:20:42.450782",
     "exception": false,
     "start_time": "2024-06-19T21:20:42.381949",
     "status": "completed"
    },
    "tags": []
   },
   "outputs": [],
   "source": [
    "vaccines = vaccines.query('location == \"Brazil\"').reset_index(drop=True)\n",
    "vaccines = vaccines[['location', 'population', 'total_vaccinations', 'people_vaccinated', 'people_fully_vaccinated', 'total_boosters', 'date']]"
   ]
  },
  {
   "cell_type": "code",
   "execution_count": 24,
   "id": "63b8e653",
   "metadata": {
    "execution": {
     "iopub.execute_input": "2024-06-19T21:20:42.507910Z",
     "iopub.status.busy": "2024-06-19T21:20:42.507494Z",
     "iopub.status.idle": "2024-06-19T21:20:42.523887Z",
     "shell.execute_reply": "2024-06-19T21:20:42.522704Z"
    },
    "id": "e4kmFIpkPm1s",
    "outputId": "6a1e61b8-3892-4db0-e06e-8d779047f28a",
    "papermill": {
     "duration": 0.048429,
     "end_time": "2024-06-19T21:20:42.526918",
     "exception": false,
     "start_time": "2024-06-19T21:20:42.478489",
     "status": "completed"
    },
    "tags": []
   },
   "outputs": [
    {
     "data": {
      "text/html": [
       "<div>\n",
       "<style scoped>\n",
       "    .dataframe tbody tr th:only-of-type {\n",
       "        vertical-align: middle;\n",
       "    }\n",
       "\n",
       "    .dataframe tbody tr th {\n",
       "        vertical-align: top;\n",
       "    }\n",
       "\n",
       "    .dataframe thead th {\n",
       "        text-align: right;\n",
       "    }\n",
       "</style>\n",
       "<table border=\"1\" class=\"dataframe\">\n",
       "  <thead>\n",
       "    <tr style=\"text-align: right;\">\n",
       "      <th></th>\n",
       "      <th>location</th>\n",
       "      <th>population</th>\n",
       "      <th>total_vaccinations</th>\n",
       "      <th>people_vaccinated</th>\n",
       "      <th>people_fully_vaccinated</th>\n",
       "      <th>total_boosters</th>\n",
       "      <th>date</th>\n",
       "    </tr>\n",
       "  </thead>\n",
       "  <tbody>\n",
       "    <tr>\n",
       "      <th>0</th>\n",
       "      <td>Brazil</td>\n",
       "      <td>215313504.0</td>\n",
       "      <td>NaN</td>\n",
       "      <td>NaN</td>\n",
       "      <td>NaN</td>\n",
       "      <td>NaN</td>\n",
       "      <td>2020-01-05</td>\n",
       "    </tr>\n",
       "    <tr>\n",
       "      <th>1</th>\n",
       "      <td>Brazil</td>\n",
       "      <td>215313504.0</td>\n",
       "      <td>NaN</td>\n",
       "      <td>NaN</td>\n",
       "      <td>NaN</td>\n",
       "      <td>NaN</td>\n",
       "      <td>2020-01-06</td>\n",
       "    </tr>\n",
       "    <tr>\n",
       "      <th>2</th>\n",
       "      <td>Brazil</td>\n",
       "      <td>215313504.0</td>\n",
       "      <td>NaN</td>\n",
       "      <td>NaN</td>\n",
       "      <td>NaN</td>\n",
       "      <td>NaN</td>\n",
       "      <td>2020-01-07</td>\n",
       "    </tr>\n",
       "    <tr>\n",
       "      <th>3</th>\n",
       "      <td>Brazil</td>\n",
       "      <td>215313504.0</td>\n",
       "      <td>NaN</td>\n",
       "      <td>NaN</td>\n",
       "      <td>NaN</td>\n",
       "      <td>NaN</td>\n",
       "      <td>2020-01-08</td>\n",
       "    </tr>\n",
       "    <tr>\n",
       "      <th>4</th>\n",
       "      <td>Brazil</td>\n",
       "      <td>215313504.0</td>\n",
       "      <td>NaN</td>\n",
       "      <td>NaN</td>\n",
       "      <td>NaN</td>\n",
       "      <td>NaN</td>\n",
       "      <td>2020-01-09</td>\n",
       "    </tr>\n",
       "  </tbody>\n",
       "</table>\n",
       "</div>"
      ],
      "text/plain": [
       "  location   population  total_vaccinations  people_vaccinated  \\\n",
       "0   Brazil  215313504.0                 NaN                NaN   \n",
       "1   Brazil  215313504.0                 NaN                NaN   \n",
       "2   Brazil  215313504.0                 NaN                NaN   \n",
       "3   Brazil  215313504.0                 NaN                NaN   \n",
       "4   Brazil  215313504.0                 NaN                NaN   \n",
       "\n",
       "   people_fully_vaccinated  total_boosters       date  \n",
       "0                      NaN             NaN 2020-01-05  \n",
       "1                      NaN             NaN 2020-01-06  \n",
       "2                      NaN             NaN 2020-01-07  \n",
       "3                      NaN             NaN 2020-01-08  \n",
       "4                      NaN             NaN 2020-01-09  "
      ]
     },
     "execution_count": 24,
     "metadata": {},
     "output_type": "execute_result"
    }
   ],
   "source": [
    "vaccines.head()"
   ]
  },
  {
   "cell_type": "markdown",
   "id": "7f8d4673",
   "metadata": {
    "id": "ANfJty-Iff4F",
    "papermill": {
     "duration": 0.02761,
     "end_time": "2024-06-19T21:20:42.582544",
     "exception": false,
     "start_time": "2024-06-19T21:20:42.554934",
     "status": "completed"
    },
    "tags": []
   },
   "source": [
    "#### **2.2.2. Wrangling**"
   ]
  },
  {
   "cell_type": "markdown",
   "id": "c80e3c08",
   "metadata": {
    "id": "XVh6eEL3zSqm",
    "papermill": {
     "duration": 0.027975,
     "end_time": "2024-06-19T21:20:42.637954",
     "exception": false,
     "start_time": "2024-06-19T21:20:42.609979",
     "status": "completed"
    },
    "tags": []
   },
   "source": [
    "Vamos manipular os dados para o dashboard. O foco é em garantir uma boa granularidade e qualidade da base de dados."
   ]
  },
  {
   "cell_type": "code",
   "execution_count": 25,
   "id": "bb37bec7",
   "metadata": {
    "execution": {
     "iopub.execute_input": "2024-06-19T21:20:42.695347Z",
     "iopub.status.busy": "2024-06-19T21:20:42.694933Z",
     "iopub.status.idle": "2024-06-19T21:20:42.712311Z",
     "shell.execute_reply": "2024-06-19T21:20:42.710933Z"
    },
    "id": "zl5Elp43flYU",
    "outputId": "133e9dd5-84c9-4b6a-b0ba-a769dd641a0a",
    "papermill": {
     "duration": 0.049046,
     "end_time": "2024-06-19T21:20:42.715004",
     "exception": false,
     "start_time": "2024-06-19T21:20:42.665958",
     "status": "completed"
    },
    "tags": []
   },
   "outputs": [
    {
     "data": {
      "text/html": [
       "<div>\n",
       "<style scoped>\n",
       "    .dataframe tbody tr th:only-of-type {\n",
       "        vertical-align: middle;\n",
       "    }\n",
       "\n",
       "    .dataframe tbody tr th {\n",
       "        vertical-align: top;\n",
       "    }\n",
       "\n",
       "    .dataframe thead th {\n",
       "        text-align: right;\n",
       "    }\n",
       "</style>\n",
       "<table border=\"1\" class=\"dataframe\">\n",
       "  <thead>\n",
       "    <tr style=\"text-align: right;\">\n",
       "      <th></th>\n",
       "      <th>location</th>\n",
       "      <th>population</th>\n",
       "      <th>total_vaccinations</th>\n",
       "      <th>people_vaccinated</th>\n",
       "      <th>people_fully_vaccinated</th>\n",
       "      <th>total_boosters</th>\n",
       "      <th>date</th>\n",
       "    </tr>\n",
       "  </thead>\n",
       "  <tbody>\n",
       "    <tr>\n",
       "      <th>0</th>\n",
       "      <td>Brazil</td>\n",
       "      <td>215313504.0</td>\n",
       "      <td>NaN</td>\n",
       "      <td>NaN</td>\n",
       "      <td>NaN</td>\n",
       "      <td>NaN</td>\n",
       "      <td>2020-01-05</td>\n",
       "    </tr>\n",
       "    <tr>\n",
       "      <th>1</th>\n",
       "      <td>Brazil</td>\n",
       "      <td>215313504.0</td>\n",
       "      <td>NaN</td>\n",
       "      <td>NaN</td>\n",
       "      <td>NaN</td>\n",
       "      <td>NaN</td>\n",
       "      <td>2020-01-06</td>\n",
       "    </tr>\n",
       "    <tr>\n",
       "      <th>2</th>\n",
       "      <td>Brazil</td>\n",
       "      <td>215313504.0</td>\n",
       "      <td>NaN</td>\n",
       "      <td>NaN</td>\n",
       "      <td>NaN</td>\n",
       "      <td>NaN</td>\n",
       "      <td>2020-01-07</td>\n",
       "    </tr>\n",
       "    <tr>\n",
       "      <th>3</th>\n",
       "      <td>Brazil</td>\n",
       "      <td>215313504.0</td>\n",
       "      <td>NaN</td>\n",
       "      <td>NaN</td>\n",
       "      <td>NaN</td>\n",
       "      <td>NaN</td>\n",
       "      <td>2020-01-08</td>\n",
       "    </tr>\n",
       "    <tr>\n",
       "      <th>4</th>\n",
       "      <td>Brazil</td>\n",
       "      <td>215313504.0</td>\n",
       "      <td>NaN</td>\n",
       "      <td>NaN</td>\n",
       "      <td>NaN</td>\n",
       "      <td>NaN</td>\n",
       "      <td>2020-01-09</td>\n",
       "    </tr>\n",
       "  </tbody>\n",
       "</table>\n",
       "</div>"
      ],
      "text/plain": [
       "  location   population  total_vaccinations  people_vaccinated  \\\n",
       "0   Brazil  215313504.0                 NaN                NaN   \n",
       "1   Brazil  215313504.0                 NaN                NaN   \n",
       "2   Brazil  215313504.0                 NaN                NaN   \n",
       "3   Brazil  215313504.0                 NaN                NaN   \n",
       "4   Brazil  215313504.0                 NaN                NaN   \n",
       "\n",
       "   people_fully_vaccinated  total_boosters       date  \n",
       "0                      NaN             NaN 2020-01-05  \n",
       "1                      NaN             NaN 2020-01-06  \n",
       "2                      NaN             NaN 2020-01-07  \n",
       "3                      NaN             NaN 2020-01-08  \n",
       "4                      NaN             NaN 2020-01-09  "
      ]
     },
     "execution_count": 25,
     "metadata": {},
     "output_type": "execute_result"
    }
   ],
   "source": [
    "vaccines.head()"
   ]
  },
  {
   "cell_type": "code",
   "execution_count": 26,
   "id": "d4f72087",
   "metadata": {
    "execution": {
     "iopub.execute_input": "2024-06-19T21:20:42.772176Z",
     "iopub.status.busy": "2024-06-19T21:20:42.771778Z",
     "iopub.status.idle": "2024-06-19T21:20:42.779455Z",
     "shell.execute_reply": "2024-06-19T21:20:42.778172Z"
    },
    "id": "GOH412CJflYV",
    "outputId": "3e17672a-1472-4b56-c772-78a361e4ee9e",
    "papermill": {
     "duration": 0.039825,
     "end_time": "2024-06-19T21:20:42.782276",
     "exception": false,
     "start_time": "2024-06-19T21:20:42.742451",
     "status": "completed"
    },
    "tags": []
   },
   "outputs": [
    {
     "data": {
      "text/plain": [
       "(1611, 7)"
      ]
     },
     "execution_count": 26,
     "metadata": {},
     "output_type": "execute_result"
    }
   ],
   "source": [
    "vaccines.shape"
   ]
  },
  {
   "cell_type": "code",
   "execution_count": 27,
   "id": "6560c585",
   "metadata": {
    "execution": {
     "iopub.execute_input": "2024-06-19T21:20:42.840506Z",
     "iopub.status.busy": "2024-06-19T21:20:42.840057Z",
     "iopub.status.idle": "2024-06-19T21:20:42.854964Z",
     "shell.execute_reply": "2024-06-19T21:20:42.853148Z"
    },
    "id": "QV6H5gl6flYW",
    "outputId": "5699f31a-0480-4adb-c820-e806c6a13007",
    "papermill": {
     "duration": 0.048069,
     "end_time": "2024-06-19T21:20:42.858283",
     "exception": false,
     "start_time": "2024-06-19T21:20:42.810214",
     "status": "completed"
    },
    "tags": []
   },
   "outputs": [
    {
     "name": "stdout",
     "output_type": "stream",
     "text": [
      "<class 'pandas.core.frame.DataFrame'>\n",
      "RangeIndex: 1611 entries, 0 to 1610\n",
      "Data columns (total 7 columns):\n",
      " #   Column                   Non-Null Count  Dtype         \n",
      "---  ------                   --------------  -----         \n",
      " 0   location                 1611 non-null   object        \n",
      " 1   population               1611 non-null   float64       \n",
      " 2   total_vaccinations       695 non-null    float64       \n",
      " 3   people_vaccinated        691 non-null    float64       \n",
      " 4   people_fully_vaccinated  675 non-null    float64       \n",
      " 5   total_boosters           455 non-null    float64       \n",
      " 6   date                     1611 non-null   datetime64[ns]\n",
      "dtypes: datetime64[ns](1), float64(5), object(1)\n",
      "memory usage: 88.2+ KB\n"
     ]
    }
   ],
   "source": [
    "vaccines.info()"
   ]
  },
  {
   "cell_type": "markdown",
   "id": "292d0c54",
   "metadata": {
    "id": "L5CaqVEzzaYH",
    "papermill": {
     "duration": 0.029265,
     "end_time": "2024-06-19T21:20:42.916567",
     "exception": false,
     "start_time": "2024-06-19T21:20:42.887302",
     "status": "completed"
    },
    "tags": []
   },
   "source": [
    "Vamos começar tratando os dados faltantes, a estratégia será a de preencher os buracos com o valor anterior válido mais próximo."
   ]
  },
  {
   "cell_type": "code",
   "execution_count": 28,
   "id": "a059888b",
   "metadata": {
    "execution": {
     "iopub.execute_input": "2024-06-19T21:20:42.975782Z",
     "iopub.status.busy": "2024-06-19T21:20:42.975333Z",
     "iopub.status.idle": "2024-06-19T21:20:42.984709Z",
     "shell.execute_reply": "2024-06-19T21:20:42.983403Z"
    },
    "id": "7UlhJa5M0fMz",
    "papermill": {
     "duration": 0.043547,
     "end_time": "2024-06-19T21:20:42.989010",
     "exception": false,
     "start_time": "2024-06-19T21:20:42.945463",
     "status": "completed"
    },
    "tags": []
   },
   "outputs": [
    {
     "name": "stderr",
     "output_type": "stream",
     "text": [
      "/tmp/ipykernel_18/1781271583.py:1: FutureWarning: DataFrame.fillna with 'method' is deprecated and will raise in a future version. Use obj.ffill() or obj.bfill() instead.\n",
      "  vaccines = vaccines.fillna(method='ffill')\n"
     ]
    }
   ],
   "source": [
    "vaccines = vaccines.fillna(method='ffill')"
   ]
  },
  {
   "cell_type": "markdown",
   "id": "9cadd32f",
   "metadata": {
    "id": "GibNnv1hfe8t",
    "papermill": {
     "duration": 0.02843,
     "end_time": "2024-06-19T21:20:43.046919",
     "exception": false,
     "start_time": "2024-06-19T21:20:43.018489",
     "status": "completed"
    },
    "tags": []
   },
   "source": [
    "Vamos também filtrar a base de dados de acordo com a coluna `date` para garantir que ambas as bases de dados tratam do mesmo período de tempo."
   ]
  },
  {
   "cell_type": "code",
   "execution_count": 29,
   "id": "55833fd5",
   "metadata": {
    "execution": {
     "iopub.execute_input": "2024-06-19T21:20:43.108172Z",
     "iopub.status.busy": "2024-06-19T21:20:43.107785Z",
     "iopub.status.idle": "2024-06-19T21:20:43.119609Z",
     "shell.execute_reply": "2024-06-19T21:20:43.117759Z"
    },
    "id": "bB8n5Nq0e51M",
    "papermill": {
     "duration": 0.048256,
     "end_time": "2024-06-19T21:20:43.123900",
     "exception": false,
     "start_time": "2024-06-19T21:20:43.075644",
     "status": "completed"
    },
    "tags": []
   },
   "outputs": [],
   "source": [
    "vaccines = vaccines[(vaccines['date'] >= '2021-01-01') & (vaccines['date'] <= '2021-12-31')].reset_index(drop=True)"
   ]
  },
  {
   "cell_type": "markdown",
   "id": "84c8ed72",
   "metadata": {
    "id": "HeVzXS5pzUyh",
    "papermill": {
     "duration": 0.028414,
     "end_time": "2024-06-19T21:20:43.184307",
     "exception": false,
     "start_time": "2024-06-19T21:20:43.155893",
     "status": "completed"
    },
    "tags": []
   },
   "source": [
    "Agora, vamos alterar o nome das colunas."
   ]
  },
  {
   "cell_type": "code",
   "execution_count": 30,
   "id": "5d638bd6",
   "metadata": {
    "execution": {
     "iopub.execute_input": "2024-06-19T21:20:43.244502Z",
     "iopub.status.busy": "2024-06-19T21:20:43.244047Z",
     "iopub.status.idle": "2024-06-19T21:20:43.251665Z",
     "shell.execute_reply": "2024-06-19T21:20:43.250039Z"
    },
    "id": "onD0FAQ2fuZG",
    "papermill": {
     "duration": 0.040556,
     "end_time": "2024-06-19T21:20:43.254281",
     "exception": false,
     "start_time": "2024-06-19T21:20:43.213725",
     "status": "completed"
    },
    "tags": []
   },
   "outputs": [],
   "source": [
    "vaccines = vaccines.rename(\n",
    "  columns={\n",
    "    'location': 'country',\n",
    "    'total_vaccinations': 'total',\n",
    "    'people_vaccinated': 'one_shot',\n",
    "    'people_fully_vaccinated': 'two_shots',\n",
    "    'total_boosters': 'three_shots',\n",
    "  }\n",
    ")"
   ]
  },
  {
   "cell_type": "markdown",
   "id": "f4d91ab0",
   "metadata": {
    "id": "3WEwZVW8zZdQ",
    "papermill": {
     "duration": 0.028597,
     "end_time": "2024-06-19T21:20:43.311660",
     "exception": false,
     "start_time": "2024-06-19T21:20:43.283063",
     "status": "completed"
    },
    "tags": []
   },
   "source": [
    "Vamos então computar novas colunas para enriquecer a base de dados."
   ]
  },
  {
   "cell_type": "markdown",
   "id": "85be6829",
   "metadata": {
    "id": "TtVVYdEn1xBu",
    "papermill": {
     "duration": 0.027836,
     "end_time": "2024-06-19T21:20:43.369559",
     "exception": false,
     "start_time": "2024-06-19T21:20:43.341723",
     "status": "completed"
    },
    "tags": []
   },
   "source": [
    " - Chaves temporais:"
   ]
  },
  {
   "cell_type": "code",
   "execution_count": 31,
   "id": "2740d217",
   "metadata": {
    "execution": {
     "iopub.execute_input": "2024-06-19T21:20:43.426946Z",
     "iopub.status.busy": "2024-06-19T21:20:43.426563Z",
     "iopub.status.idle": "2024-06-19T21:20:43.441645Z",
     "shell.execute_reply": "2024-06-19T21:20:43.440119Z"
    },
    "id": "69n_u8z-fuZI",
    "papermill": {
     "duration": 0.046969,
     "end_time": "2024-06-19T21:20:43.444261",
     "exception": false,
     "start_time": "2024-06-19T21:20:43.397292",
     "status": "completed"
    },
    "tags": []
   },
   "outputs": [],
   "source": [
    "vaccines['month'] = vaccines['date'].apply(lambda date: date.strftime('%Y-%m'))\n",
    "vaccines['year']  = vaccines['date'].apply(lambda date: date.strftime('%Y'))"
   ]
  },
  {
   "cell_type": "markdown",
   "id": "78085130",
   "metadata": {
    "id": "RToFxe8s13WZ",
    "papermill": {
     "duration": 0.02784,
     "end_time": "2024-06-19T21:20:43.500842",
     "exception": false,
     "start_time": "2024-06-19T21:20:43.473002",
     "status": "completed"
    },
    "tags": []
   },
   "source": [
    " - Dados relativos:"
   ]
  },
  {
   "cell_type": "code",
   "execution_count": 32,
   "id": "15104ebc",
   "metadata": {
    "execution": {
     "iopub.execute_input": "2024-06-19T21:20:43.558717Z",
     "iopub.status.busy": "2024-06-19T21:20:43.558235Z",
     "iopub.status.idle": "2024-06-19T21:20:43.568836Z",
     "shell.execute_reply": "2024-06-19T21:20:43.567494Z"
    },
    "id": "0p5fH8yI160u",
    "papermill": {
     "duration": 0.043012,
     "end_time": "2024-06-19T21:20:43.571933",
     "exception": false,
     "start_time": "2024-06-19T21:20:43.528921",
     "status": "completed"
    },
    "tags": []
   },
   "outputs": [],
   "source": [
    "vaccines['one_shot_perc'] = round(vaccines['one_shot'] / vaccines['population'], 4)\n",
    "vaccines['two_shots_perc'] = round(vaccines['two_shots'] / vaccines['population'], 4)\n",
    "vaccines['three_shots_perc'] = round(vaccines['three_shots'] / vaccines['population'], 4)"
   ]
  },
  {
   "cell_type": "markdown",
   "id": "ef588f93",
   "metadata": {
    "id": "AwBPeUoH018t",
    "papermill": {
     "duration": 0.028299,
     "end_time": "2024-06-19T21:20:43.629202",
     "exception": false,
     "start_time": "2024-06-19T21:20:43.600903",
     "status": "completed"
    },
    "tags": []
   },
   "source": [
    "Garantir o tipo do dado é fundamental para consistência da base de dados. Vamos fazer o *type casting* das colunas."
   ]
  },
  {
   "cell_type": "code",
   "execution_count": 33,
   "id": "16de4d75",
   "metadata": {
    "execution": {
     "iopub.execute_input": "2024-06-19T21:20:43.687968Z",
     "iopub.status.busy": "2024-06-19T21:20:43.687527Z",
     "iopub.status.idle": "2024-06-19T21:20:43.699521Z",
     "shell.execute_reply": "2024-06-19T21:20:43.698393Z"
    },
    "id": "bkebNuXF024g",
    "papermill": {
     "duration": 0.045017,
     "end_time": "2024-06-19T21:20:43.702338",
     "exception": false,
     "start_time": "2024-06-19T21:20:43.657321",
     "status": "completed"
    },
    "tags": []
   },
   "outputs": [],
   "source": [
    "vaccines['population'] = vaccines['population'].astype('Int64')\n",
    "vaccines['total'] = vaccines['total'].astype('Int64')\n",
    "vaccines['one_shot'] = vaccines['one_shot'].astype('Int64')\n",
    "vaccines['two_shots'] = vaccines['two_shots'].astype('Int64')\n",
    "vaccines['three_shots'] = vaccines['three_shots'].astype('Int64')"
   ]
  },
  {
   "cell_type": "markdown",
   "id": "237ffee6",
   "metadata": {
    "id": "R8s4jBC4gUrq",
    "papermill": {
     "duration": 0.027795,
     "end_time": "2024-06-19T21:20:43.758562",
     "exception": false,
     "start_time": "2024-06-19T21:20:43.730767",
     "status": "completed"
    },
    "tags": []
   },
   "source": [
    "Por fim, vamos reorganizar as colunas e conferir o resultado final."
   ]
  },
  {
   "cell_type": "code",
   "execution_count": 34,
   "id": "f2f5f325",
   "metadata": {
    "execution": {
     "iopub.execute_input": "2024-06-19T21:20:43.816180Z",
     "iopub.status.busy": "2024-06-19T21:20:43.815797Z",
     "iopub.status.idle": "2024-06-19T21:20:43.823364Z",
     "shell.execute_reply": "2024-06-19T21:20:43.822217Z"
    },
    "id": "GRqAQTFxfuZJ",
    "papermill": {
     "duration": 0.039368,
     "end_time": "2024-06-19T21:20:43.825860",
     "exception": false,
     "start_time": "2024-06-19T21:20:43.786492",
     "status": "completed"
    },
    "tags": []
   },
   "outputs": [],
   "source": [
    "vaccines = vaccines[['date', 'country', 'population', 'total', 'one_shot', 'one_shot_perc', 'two_shots', 'two_shots_perc', 'three_shots', 'three_shots_perc', 'month', 'year']]"
   ]
  },
  {
   "cell_type": "code",
   "execution_count": 35,
   "id": "f625e1ee",
   "metadata": {
    "execution": {
     "iopub.execute_input": "2024-06-19T21:20:43.884557Z",
     "iopub.status.busy": "2024-06-19T21:20:43.883843Z",
     "iopub.status.idle": "2024-06-19T21:20:43.903508Z",
     "shell.execute_reply": "2024-06-19T21:20:43.902348Z"
    },
    "id": "RqeuGtCPzXmj",
    "outputId": "ef6443ac-b84b-4115-9ccb-0120167e3e31",
    "papermill": {
     "duration": 0.052201,
     "end_time": "2024-06-19T21:20:43.906344",
     "exception": false,
     "start_time": "2024-06-19T21:20:43.854143",
     "status": "completed"
    },
    "tags": []
   },
   "outputs": [
    {
     "data": {
      "text/html": [
       "<div>\n",
       "<style scoped>\n",
       "    .dataframe tbody tr th:only-of-type {\n",
       "        vertical-align: middle;\n",
       "    }\n",
       "\n",
       "    .dataframe tbody tr th {\n",
       "        vertical-align: top;\n",
       "    }\n",
       "\n",
       "    .dataframe thead th {\n",
       "        text-align: right;\n",
       "    }\n",
       "</style>\n",
       "<table border=\"1\" class=\"dataframe\">\n",
       "  <thead>\n",
       "    <tr style=\"text-align: right;\">\n",
       "      <th></th>\n",
       "      <th>date</th>\n",
       "      <th>country</th>\n",
       "      <th>population</th>\n",
       "      <th>total</th>\n",
       "      <th>one_shot</th>\n",
       "      <th>one_shot_perc</th>\n",
       "      <th>two_shots</th>\n",
       "      <th>two_shots_perc</th>\n",
       "      <th>three_shots</th>\n",
       "      <th>three_shots_perc</th>\n",
       "      <th>month</th>\n",
       "      <th>year</th>\n",
       "    </tr>\n",
       "  </thead>\n",
       "  <tbody>\n",
       "    <tr>\n",
       "      <th>360</th>\n",
       "      <td>2021-12-27</td>\n",
       "      <td>Brazil</td>\n",
       "      <td>215313504</td>\n",
       "      <td>329011365</td>\n",
       "      <td>165952037</td>\n",
       "      <td>0.7707</td>\n",
       "      <td>142764283</td>\n",
       "      <td>0.6631</td>\n",
       "      <td>25218893</td>\n",
       "      <td>0.1171</td>\n",
       "      <td>2021-12</td>\n",
       "      <td>2021</td>\n",
       "    </tr>\n",
       "    <tr>\n",
       "      <th>361</th>\n",
       "      <td>2021-12-28</td>\n",
       "      <td>Brazil</td>\n",
       "      <td>215313504</td>\n",
       "      <td>329861730</td>\n",
       "      <td>166062249</td>\n",
       "      <td>0.7713</td>\n",
       "      <td>142965728</td>\n",
       "      <td>0.6640</td>\n",
       "      <td>25758909</td>\n",
       "      <td>0.1196</td>\n",
       "      <td>2021-12</td>\n",
       "      <td>2021</td>\n",
       "    </tr>\n",
       "    <tr>\n",
       "      <th>362</th>\n",
       "      <td>2021-12-29</td>\n",
       "      <td>Brazil</td>\n",
       "      <td>215313504</td>\n",
       "      <td>330718457</td>\n",
       "      <td>166143380</td>\n",
       "      <td>0.7716</td>\n",
       "      <td>143282084</td>\n",
       "      <td>0.6655</td>\n",
       "      <td>26219623</td>\n",
       "      <td>0.1218</td>\n",
       "      <td>2021-12</td>\n",
       "      <td>2021</td>\n",
       "    </tr>\n",
       "    <tr>\n",
       "      <th>363</th>\n",
       "      <td>2021-12-30</td>\n",
       "      <td>Brazil</td>\n",
       "      <td>215313504</td>\n",
       "      <td>331164041</td>\n",
       "      <td>166185628</td>\n",
       "      <td>0.7718</td>\n",
       "      <td>143398692</td>\n",
       "      <td>0.6660</td>\n",
       "      <td>26507937</td>\n",
       "      <td>0.1231</td>\n",
       "      <td>2021-12</td>\n",
       "      <td>2021</td>\n",
       "    </tr>\n",
       "    <tr>\n",
       "      <th>364</th>\n",
       "      <td>2021-12-31</td>\n",
       "      <td>Brazil</td>\n",
       "      <td>215313504</td>\n",
       "      <td>331273910</td>\n",
       "      <td>166195505</td>\n",
       "      <td>0.7719</td>\n",
       "      <td>143436012</td>\n",
       "      <td>0.6662</td>\n",
       "      <td>26571077</td>\n",
       "      <td>0.1234</td>\n",
       "      <td>2021-12</td>\n",
       "      <td>2021</td>\n",
       "    </tr>\n",
       "  </tbody>\n",
       "</table>\n",
       "</div>"
      ],
      "text/plain": [
       "          date country  population      total   one_shot  one_shot_perc  \\\n",
       "360 2021-12-27  Brazil   215313504  329011365  165952037         0.7707   \n",
       "361 2021-12-28  Brazil   215313504  329861730  166062249         0.7713   \n",
       "362 2021-12-29  Brazil   215313504  330718457  166143380         0.7716   \n",
       "363 2021-12-30  Brazil   215313504  331164041  166185628         0.7718   \n",
       "364 2021-12-31  Brazil   215313504  331273910  166195505         0.7719   \n",
       "\n",
       "     two_shots  two_shots_perc  three_shots  three_shots_perc    month  year  \n",
       "360  142764283          0.6631     25218893            0.1171  2021-12  2021  \n",
       "361  142965728          0.6640     25758909            0.1196  2021-12  2021  \n",
       "362  143282084          0.6655     26219623            0.1218  2021-12  2021  \n",
       "363  143398692          0.6660     26507937            0.1231  2021-12  2021  \n",
       "364  143436012          0.6662     26571077            0.1234  2021-12  2021  "
      ]
     },
     "execution_count": 35,
     "metadata": {},
     "output_type": "execute_result"
    }
   ],
   "source": [
    "vaccines.tail()"
   ]
  },
  {
   "cell_type": "markdown",
   "id": "ca50372d",
   "metadata": {
    "id": "yhTcLXpaV5-F",
    "papermill": {
     "duration": 0.028203,
     "end_time": "2024-06-19T21:20:43.964485",
     "exception": false,
     "start_time": "2024-06-19T21:20:43.936282",
     "status": "completed"
    },
    "tags": []
   },
   "source": [
    "#### **2.2.3. Carregamento**"
   ]
  },
  {
   "cell_type": "markdown",
   "id": "2a52db6c",
   "metadata": {
    "id": "ciQaKaE8WDYL",
    "papermill": {
     "duration": 0.028459,
     "end_time": "2024-06-19T21:20:44.023330",
     "exception": false,
     "start_time": "2024-06-19T21:20:43.994871",
     "status": "completed"
    },
    "tags": []
   },
   "source": [
    "Com os dados manipulados, vamos persisti-lo em disco, fazer o seu download e carrega-lo no Google Data Studio."
   ]
  },
  {
   "cell_type": "code",
   "execution_count": 36,
   "id": "41ce44a4",
   "metadata": {
    "execution": {
     "iopub.execute_input": "2024-06-19T21:20:44.086644Z",
     "iopub.status.busy": "2024-06-19T21:20:44.085289Z",
     "iopub.status.idle": "2024-06-19T21:20:44.098064Z",
     "shell.execute_reply": "2024-06-19T21:20:44.096801Z"
    },
    "id": "ur-OHsXIWN_-",
    "papermill": {
     "duration": 0.046661,
     "end_time": "2024-06-19T21:20:44.100827",
     "exception": false,
     "start_time": "2024-06-19T21:20:44.054166",
     "status": "completed"
    },
    "tags": []
   },
   "outputs": [],
   "source": [
    "vaccines.to_csv('./covid-vaccines.csv', sep=',', index=False)"
   ]
  },
  {
   "cell_type": "markdown",
   "id": "d0538535",
   "metadata": {
    "id": "PD0FiM7UJOGT",
    "papermill": {
     "duration": 0.029424,
     "end_time": "2024-06-19T21:20:44.159650",
     "exception": false,
     "start_time": "2024-06-19T21:20:44.130226",
     "status": "completed"
    },
    "tags": []
   },
   "source": [
    "## 3\\. Exploração Interativa de Dados"
   ]
  },
  {
   "cell_type": "markdown",
   "id": "37a0543c",
   "metadata": {
    "id": "AAwJC4RyS0xa",
    "papermill": {
     "duration": 0.028924,
     "end_time": "2024-06-19T21:20:44.220025",
     "exception": false,
     "start_time": "2024-06-19T21:20:44.191101",
     "status": "completed"
    },
    "tags": []
   },
   "source": [
    "### **3.1. KPIs**"
   ]
  },
  {
   "cell_type": "markdown",
   "id": "172d712a",
   "metadata": {
    "id": "9LIHnwDuiN47",
    "papermill": {
     "duration": 0.028299,
     "end_time": "2024-06-19T21:20:44.278363",
     "exception": false,
     "start_time": "2024-06-19T21:20:44.250064",
     "status": "completed"
    },
    "tags": []
   },
   "source": [
    "O dashboard de dados contem os seguintes indicadores chaves de desempenho (*key performance indicator* ou KPI) consolidados:"
   ]
  },
  {
   "cell_type": "markdown",
   "id": "62056f15",
   "metadata": {
    "id": "rllIx255dOOu",
    "papermill": {
     "duration": 0.029214,
     "end_time": "2024-06-19T21:20:44.336500",
     "exception": false,
     "start_time": "2024-06-19T21:20:44.307286",
     "status": "completed"
    },
    "tags": []
   },
   "source": [
    "1. Casos e mortes nas 24 horas;\n",
    "1. Média móvel (7 dias) de casos e mortes;\n",
    "1. Tendência de casos e mortes;\n",
    "1. Proporção de vacinados com 1ª, 2ª e 3ª doses."
   ]
  },
  {
   "cell_type": "markdown",
   "id": "ac4e78d9",
   "metadata": {
    "id": "QGWv8lw5YdUC",
    "papermill": {
     "duration": 0.028264,
     "end_time": "2024-06-19T21:20:44.393758",
     "exception": false,
     "start_time": "2024-06-19T21:20:44.365494",
     "status": "completed"
    },
    "tags": []
   },
   "source": [
    "### **3.2. EDA**"
   ]
  },
  {
   "cell_type": "markdown",
   "id": "cc316ec7",
   "metadata": {
    "id": "AZPbGM3cdOyi",
    "papermill": {
     "duration": 0.028131,
     "end_time": "2024-06-19T21:20:44.451197",
     "exception": false,
     "start_time": "2024-06-19T21:20:44.423066",
     "status": "completed"
    },
    "tags": []
   },
   "source": [
    "O dashboard de dados contem os seguintes gráficos para a análise exploratória de dados (*exploratory data analysis*\n",
    "ou EDA) interativa:"
   ]
  },
  {
   "cell_type": "markdown",
   "id": "9e4e3163",
   "metadata": {
    "id": "QuzfB5PmYjS9",
    "papermill": {
     "duration": 0.028432,
     "end_time": "2024-06-19T21:20:44.508295",
     "exception": false,
     "start_time": "2024-06-19T21:20:44.479863",
     "status": "completed"
    },
    "tags": []
   },
   "source": [
    "1. Distribuição do números de casos e mortes ao longo do tempo;\n",
    "1. Distribuição da média móvel (7 dias) do números de casos e mortes ao longo do tempo;\n",
    "1. Distribuição geográfica dos casos por estado por dia."
   ]
  },
  {
   "cell_type": "markdown",
   "id": "a503b6ae",
   "metadata": {
    "id": "fGmO0I_ae62k",
    "papermill": {
     "duration": 0.029434,
     "end_time": "2024-06-19T21:20:44.566324",
     "exception": false,
     "start_time": "2024-06-19T21:20:44.536890",
     "status": "completed"
    },
    "tags": []
   },
   "source": [
    "## 4\\. Storytelling"
   ]
  },
  {
   "cell_type": "markdown",
   "id": "d132cd7d",
   "metadata": {
    "id": "WWW0J9OVDmfj",
    "papermill": {
     "duration": 0.028431,
     "end_time": "2024-06-19T21:20:44.623612",
     "exception": false,
     "start_time": "2024-06-19T21:20:44.595181",
     "status": "completed"
    },
    "tags": []
   },
   "source": [
    "Com os dados disponiblizados, dividimos nosso trabalho em duas etapas: Preparamos  e manipulamos os dados atráves do python, e em seguida ultilizamos o **looker studio** para criarmos o Dashboard.\n",
    "Através do dashboard conseguimos ter uma visualização interativa dos dados, KPI dinâmicos que se altera com o filtro temporal **date**.\n",
    "KPI:\n",
    "* **Casos(24h): Casos das últimas 24 horas**\n",
    "* **Casos(m.m.7d): Casos últilizando a média móvel dos últimos 7 dias**\n",
    "* **Mortes(24h): Mortes das últimas 24 horas**\n",
    "* **Mortes(m.m.7d): Mortes últilizando a média móvel dos últimos 7 dias**\n",
    "* **Casos Tendência: A têndencia dos casos**\n",
    "* **Mortes Tendência: Têndencia das mortes**.\n",
    "\n",
    "Dashboard criado também possúi gráficos interativos que facilitam a visualização dos dados."
   ]
  }
 ],
 "metadata": {
  "colab": {
   "include_colab_link": true,
   "provenance": []
  },
  "kaggle": {
   "accelerator": "none",
   "dataSources": [],
   "isGpuEnabled": false,
   "isInternetEnabled": true,
   "language": "python",
   "sourceType": "notebook"
  },
  "kernelspec": {
   "display_name": "Python 3",
   "name": "python3"
  },
  "language_info": {
   "codemirror_mode": {
    "name": "ipython",
    "version": 3
   },
   "file_extension": ".py",
   "mimetype": "text/x-python",
   "name": "python",
   "nbconvert_exporter": "python",
   "pygments_lexer": "ipython3",
   "version": "3.10.13"
  },
  "papermill": {
   "default_parameters": {},
   "duration": 98.573507,
   "end_time": "2024-06-19T21:20:45.176941",
   "environment_variables": {},
   "exception": null,
   "input_path": "__notebook__.ipynb",
   "output_path": "__notebook__.ipynb",
   "parameters": {},
   "start_time": "2024-06-19T21:19:06.603434",
   "version": "2.5.0"
  }
 },
 "nbformat": 4,
 "nbformat_minor": 5
}
